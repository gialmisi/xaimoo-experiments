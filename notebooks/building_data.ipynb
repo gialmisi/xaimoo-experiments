{
 "cells": [
  {
   "cell_type": "code",
   "execution_count": null,
   "id": "c605f538-abf4-4bc4-a731-f00bd06c98a8",
   "metadata": {},
   "outputs": [],
   "source": []
  }
 ],
 "metadata": {
  "kernelspec": {
   "display_name": "xaimoo-experiments",
   "language": "python",
   "name": "xaimoo-experiments"
  },
  "language_info": {
   "codemirror_mode": {
    "name": "ipython",
    "version": 3
   },
   "file_extension": ".py",
   "mimetype": "text/x-python",
   "name": "python",
   "nbconvert_exporter": "python",
   "pygments_lexer": "ipython3",
   "version": "3.10.8"
  }
 },
 "nbformat": 4,
 "nbformat_minor": 5
}

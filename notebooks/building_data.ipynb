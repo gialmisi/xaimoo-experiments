{
 "cells": [
  {
   "cell_type": "code",
   "execution_count": 1,
   "id": "c605f538-abf4-4bc4-a731-f00bd06c98a8",
   "metadata": {},
   "outputs": [],
   "source": [
    "import pandas as pd\n",
    "\n",
    "df_all = pd.read_csv(\"../data/BuildingDataset/all.csv\")"
   ]
  },
  {
   "cell_type": "code",
   "execution_count": 2,
   "id": "d848dd45-0db5-4952-8e75-8c524d233326",
   "metadata": {},
   "outputs": [
    {
     "data": {
      "text/html": [
       "<div>\n",
       "<style scoped>\n",
       "    .dataframe tbody tr th:only-of-type {\n",
       "        vertical-align: middle;\n",
       "    }\n",
       "\n",
       "    .dataframe tbody tr th {\n",
       "        vertical-align: top;\n",
       "    }\n",
       "\n",
       "    .dataframe thead th {\n",
       "        text-align: right;\n",
       "    }\n",
       "</style>\n",
       "<table border=\"1\" class=\"dataframe\">\n",
       "  <thead>\n",
       "    <tr style=\"text-align: right;\">\n",
       "      <th></th>\n",
       "      <th>f1</th>\n",
       "      <th>f2</th>\n",
       "      <th>vol.build</th>\n",
       "      <th>vol.min</th>\n",
       "      <th>vol.max</th>\n",
       "      <th>vol.mean</th>\n",
       "      <th>vol.med</th>\n",
       "      <th>vol.range</th>\n",
       "      <th>vol.std</th>\n",
       "      <th>vol.gini</th>\n",
       "      <th>...</th>\n",
       "      <th>long_short.min</th>\n",
       "      <th>long_short.max</th>\n",
       "      <th>long_short.mean</th>\n",
       "      <th>long_short.med</th>\n",
       "      <th>long_short.range</th>\n",
       "      <th>long_short.std</th>\n",
       "      <th>long_short.gini</th>\n",
       "      <th>meanheight.build</th>\n",
       "      <th>meanheight_height.build</th>\n",
       "      <th>height_soil.build</th>\n",
       "    </tr>\n",
       "  </thead>\n",
       "  <tbody>\n",
       "    <tr>\n",
       "      <th>1</th>\n",
       "      <td>389664.0</td>\n",
       "      <td>681.010</td>\n",
       "      <td>299.898</td>\n",
       "      <td>9.49611</td>\n",
       "      <td>264.209</td>\n",
       "      <td>99.9660</td>\n",
       "      <td>26.1931</td>\n",
       "      <td>254.71300</td>\n",
       "      <td>116.33700</td>\n",
       "      <td>0.566221</td>\n",
       "      <td>...</td>\n",
       "      <td>0.576531</td>\n",
       "      <td>0.916360</td>\n",
       "      <td>0.803084</td>\n",
       "      <td>0.916360</td>\n",
       "      <td>0.339829</td>\n",
       "      <td>0.160197</td>\n",
       "      <td>0.094035</td>\n",
       "      <td>6.47268</td>\n",
       "      <td>0.676846</td>\n",
       "      <td>0.206398</td>\n",
       "    </tr>\n",
       "    <tr>\n",
       "      <th>2</th>\n",
       "      <td>1732610.0</td>\n",
       "      <td>849.511</td>\n",
       "      <td>299.779</td>\n",
       "      <td>61.64700</td>\n",
       "      <td>173.546</td>\n",
       "      <td>99.9262</td>\n",
       "      <td>64.5855</td>\n",
       "      <td>111.89900</td>\n",
       "      <td>52.07100</td>\n",
       "      <td>0.248848</td>\n",
       "      <td>...</td>\n",
       "      <td>0.880911</td>\n",
       "      <td>0.920836</td>\n",
       "      <td>0.906950</td>\n",
       "      <td>0.919103</td>\n",
       "      <td>0.039925</td>\n",
       "      <td>0.018426</td>\n",
       "      <td>0.009783</td>\n",
       "      <td>9.29326</td>\n",
       "      <td>0.524066</td>\n",
       "      <td>0.549730</td>\n",
       "    </tr>\n",
       "    <tr>\n",
       "      <th>3</th>\n",
       "      <td>729853.0</td>\n",
       "      <td>652.527</td>\n",
       "      <td>299.944</td>\n",
       "      <td>38.34540</td>\n",
       "      <td>204.048</td>\n",
       "      <td>99.9812</td>\n",
       "      <td>57.5505</td>\n",
       "      <td>165.70200</td>\n",
       "      <td>74.00260</td>\n",
       "      <td>0.368296</td>\n",
       "      <td>...</td>\n",
       "      <td>0.504456</td>\n",
       "      <td>0.689910</td>\n",
       "      <td>0.617374</td>\n",
       "      <td>0.657757</td>\n",
       "      <td>0.185454</td>\n",
       "      <td>0.080917</td>\n",
       "      <td>0.066754</td>\n",
       "      <td>3.90003</td>\n",
       "      <td>0.602600</td>\n",
       "      <td>0.084152</td>\n",
       "    </tr>\n",
       "    <tr>\n",
       "      <th>4</th>\n",
       "      <td>2629310.0</td>\n",
       "      <td>786.246</td>\n",
       "      <td>299.862</td>\n",
       "      <td>22.43900</td>\n",
       "      <td>246.035</td>\n",
       "      <td>99.9541</td>\n",
       "      <td>31.3882</td>\n",
       "      <td>223.59600</td>\n",
       "      <td>103.35900</td>\n",
       "      <td>0.497108</td>\n",
       "      <td>...</td>\n",
       "      <td>0.618281</td>\n",
       "      <td>0.738355</td>\n",
       "      <td>0.658306</td>\n",
       "      <td>0.618281</td>\n",
       "      <td>0.120073</td>\n",
       "      <td>0.056603</td>\n",
       "      <td>0.040533</td>\n",
       "      <td>23.62600</td>\n",
       "      <td>1.000000</td>\n",
       "      <td>1.861480</td>\n",
       "    </tr>\n",
       "    <tr>\n",
       "      <th>5</th>\n",
       "      <td>160481.0</td>\n",
       "      <td>724.934</td>\n",
       "      <td>299.872</td>\n",
       "      <td>61.40950</td>\n",
       "      <td>138.446</td>\n",
       "      <td>99.9572</td>\n",
       "      <td>100.0160</td>\n",
       "      <td>77.03650</td>\n",
       "      <td>31.45000</td>\n",
       "      <td>0.171265</td>\n",
       "      <td>...</td>\n",
       "      <td>0.516423</td>\n",
       "      <td>0.764904</td>\n",
       "      <td>0.601795</td>\n",
       "      <td>0.524058</td>\n",
       "      <td>0.248481</td>\n",
       "      <td>0.115378</td>\n",
       "      <td>0.091756</td>\n",
       "      <td>6.74065</td>\n",
       "      <td>0.613009</td>\n",
       "      <td>0.247173</td>\n",
       "    </tr>\n",
       "    <tr>\n",
       "      <th>...</th>\n",
       "      <td>...</td>\n",
       "      <td>...</td>\n",
       "      <td>...</td>\n",
       "      <td>...</td>\n",
       "      <td>...</td>\n",
       "      <td>...</td>\n",
       "      <td>...</td>\n",
       "      <td>...</td>\n",
       "      <td>...</td>\n",
       "      <td>...</td>\n",
       "      <td>...</td>\n",
       "      <td>...</td>\n",
       "      <td>...</td>\n",
       "      <td>...</td>\n",
       "      <td>...</td>\n",
       "      <td>...</td>\n",
       "      <td>...</td>\n",
       "      <td>...</td>\n",
       "      <td>...</td>\n",
       "      <td>...</td>\n",
       "      <td>...</td>\n",
       "    </tr>\n",
       "    <tr>\n",
       "      <th>806535</th>\n",
       "      <td>47604.7</td>\n",
       "      <td>616.405</td>\n",
       "      <td>299.777</td>\n",
       "      <td>96.51890</td>\n",
       "      <td>106.457</td>\n",
       "      <td>99.9257</td>\n",
       "      <td>96.8008</td>\n",
       "      <td>9.93844</td>\n",
       "      <td>4.62000</td>\n",
       "      <td>0.022102</td>\n",
       "      <td>...</td>\n",
       "      <td>0.595973</td>\n",
       "      <td>0.710863</td>\n",
       "      <td>0.634504</td>\n",
       "      <td>0.596675</td>\n",
       "      <td>0.114890</td>\n",
       "      <td>0.053995</td>\n",
       "      <td>0.040238</td>\n",
       "      <td>6.87300</td>\n",
       "      <td>1.000000</td>\n",
       "      <td>0.157578</td>\n",
       "    </tr>\n",
       "    <tr>\n",
       "      <th>806536</th>\n",
       "      <td>44894.5</td>\n",
       "      <td>621.087</td>\n",
       "      <td>299.727</td>\n",
       "      <td>95.76710</td>\n",
       "      <td>107.852</td>\n",
       "      <td>99.9090</td>\n",
       "      <td>96.1084</td>\n",
       "      <td>12.08450</td>\n",
       "      <td>5.61797</td>\n",
       "      <td>0.026879</td>\n",
       "      <td>...</td>\n",
       "      <td>0.611747</td>\n",
       "      <td>0.692706</td>\n",
       "      <td>0.639015</td>\n",
       "      <td>0.612591</td>\n",
       "      <td>0.080959</td>\n",
       "      <td>0.037967</td>\n",
       "      <td>0.028154</td>\n",
       "      <td>7.69200</td>\n",
       "      <td>1.000000</td>\n",
       "      <td>0.197402</td>\n",
       "    </tr>\n",
       "    <tr>\n",
       "      <th>806537</th>\n",
       "      <td>44133.2</td>\n",
       "      <td>629.523</td>\n",
       "      <td>299.865</td>\n",
       "      <td>96.76050</td>\n",
       "      <td>104.488</td>\n",
       "      <td>99.9550</td>\n",
       "      <td>98.6168</td>\n",
       "      <td>7.72726</td>\n",
       "      <td>3.29350</td>\n",
       "      <td>0.017179</td>\n",
       "      <td>...</td>\n",
       "      <td>0.574575</td>\n",
       "      <td>0.664278</td>\n",
       "      <td>0.606022</td>\n",
       "      <td>0.579213</td>\n",
       "      <td>0.089704</td>\n",
       "      <td>0.041237</td>\n",
       "      <td>0.032893</td>\n",
       "      <td>8.25000</td>\n",
       "      <td>1.000000</td>\n",
       "      <td>0.226977</td>\n",
       "    </tr>\n",
       "    <tr>\n",
       "      <th>806538</th>\n",
       "      <td>45486.5</td>\n",
       "      <td>620.729</td>\n",
       "      <td>299.780</td>\n",
       "      <td>93.97260</td>\n",
       "      <td>106.211</td>\n",
       "      <td>99.9265</td>\n",
       "      <td>99.5961</td>\n",
       "      <td>12.23830</td>\n",
       "      <td>5.00171</td>\n",
       "      <td>0.027216</td>\n",
       "      <td>...</td>\n",
       "      <td>0.628496</td>\n",
       "      <td>0.676765</td>\n",
       "      <td>0.649074</td>\n",
       "      <td>0.641962</td>\n",
       "      <td>0.048269</td>\n",
       "      <td>0.020337</td>\n",
       "      <td>0.016526</td>\n",
       "      <td>7.42400</td>\n",
       "      <td>1.000000</td>\n",
       "      <td>0.183854</td>\n",
       "    </tr>\n",
       "    <tr>\n",
       "      <th>806539</th>\n",
       "      <td>44534.0</td>\n",
       "      <td>623.881</td>\n",
       "      <td>299.810</td>\n",
       "      <td>93.83790</td>\n",
       "      <td>109.223</td>\n",
       "      <td>99.9366</td>\n",
       "      <td>96.7493</td>\n",
       "      <td>15.38470</td>\n",
       "      <td>6.67291</td>\n",
       "      <td>0.034210</td>\n",
       "      <td>...</td>\n",
       "      <td>0.617490</td>\n",
       "      <td>0.680441</td>\n",
       "      <td>0.640871</td>\n",
       "      <td>0.624680</td>\n",
       "      <td>0.062951</td>\n",
       "      <td>0.028134</td>\n",
       "      <td>0.021828</td>\n",
       "      <td>8.07100</td>\n",
       "      <td>1.000000</td>\n",
       "      <td>0.217274</td>\n",
       "    </tr>\n",
       "  </tbody>\n",
       "</table>\n",
       "<p>801103 rows × 101 columns</p>\n",
       "</div>"
      ],
      "text/plain": [
       "               f1       f2  vol.build   vol.min  vol.max  vol.mean   vol.med  \\\n",
       "1        389664.0  681.010    299.898   9.49611  264.209   99.9660   26.1931   \n",
       "2       1732610.0  849.511    299.779  61.64700  173.546   99.9262   64.5855   \n",
       "3        729853.0  652.527    299.944  38.34540  204.048   99.9812   57.5505   \n",
       "4       2629310.0  786.246    299.862  22.43900  246.035   99.9541   31.3882   \n",
       "5        160481.0  724.934    299.872  61.40950  138.446   99.9572  100.0160   \n",
       "...           ...      ...        ...       ...      ...       ...       ...   \n",
       "806535    47604.7  616.405    299.777  96.51890  106.457   99.9257   96.8008   \n",
       "806536    44894.5  621.087    299.727  95.76710  107.852   99.9090   96.1084   \n",
       "806537    44133.2  629.523    299.865  96.76050  104.488   99.9550   98.6168   \n",
       "806538    45486.5  620.729    299.780  93.97260  106.211   99.9265   99.5961   \n",
       "806539    44534.0  623.881    299.810  93.83790  109.223   99.9366   96.7493   \n",
       "\n",
       "        vol.range    vol.std  vol.gini  ...  long_short.min  long_short.max  \\\n",
       "1       254.71300  116.33700  0.566221  ...        0.576531        0.916360   \n",
       "2       111.89900   52.07100  0.248848  ...        0.880911        0.920836   \n",
       "3       165.70200   74.00260  0.368296  ...        0.504456        0.689910   \n",
       "4       223.59600  103.35900  0.497108  ...        0.618281        0.738355   \n",
       "5        77.03650   31.45000  0.171265  ...        0.516423        0.764904   \n",
       "...           ...        ...       ...  ...             ...             ...   \n",
       "806535    9.93844    4.62000  0.022102  ...        0.595973        0.710863   \n",
       "806536   12.08450    5.61797  0.026879  ...        0.611747        0.692706   \n",
       "806537    7.72726    3.29350  0.017179  ...        0.574575        0.664278   \n",
       "806538   12.23830    5.00171  0.027216  ...        0.628496        0.676765   \n",
       "806539   15.38470    6.67291  0.034210  ...        0.617490        0.680441   \n",
       "\n",
       "        long_short.mean  long_short.med  long_short.range  long_short.std  \\\n",
       "1              0.803084        0.916360          0.339829        0.160197   \n",
       "2              0.906950        0.919103          0.039925        0.018426   \n",
       "3              0.617374        0.657757          0.185454        0.080917   \n",
       "4              0.658306        0.618281          0.120073        0.056603   \n",
       "5              0.601795        0.524058          0.248481        0.115378   \n",
       "...                 ...             ...               ...             ...   \n",
       "806535         0.634504        0.596675          0.114890        0.053995   \n",
       "806536         0.639015        0.612591          0.080959        0.037967   \n",
       "806537         0.606022        0.579213          0.089704        0.041237   \n",
       "806538         0.649074        0.641962          0.048269        0.020337   \n",
       "806539         0.640871        0.624680          0.062951        0.028134   \n",
       "\n",
       "        long_short.gini  meanheight.build  meanheight_height.build  \\\n",
       "1              0.094035           6.47268                 0.676846   \n",
       "2              0.009783           9.29326                 0.524066   \n",
       "3              0.066754           3.90003                 0.602600   \n",
       "4              0.040533          23.62600                 1.000000   \n",
       "5              0.091756           6.74065                 0.613009   \n",
       "...                 ...               ...                      ...   \n",
       "806535         0.040238           6.87300                 1.000000   \n",
       "806536         0.028154           7.69200                 1.000000   \n",
       "806537         0.032893           8.25000                 1.000000   \n",
       "806538         0.016526           7.42400                 1.000000   \n",
       "806539         0.021828           8.07100                 1.000000   \n",
       "\n",
       "        height_soil.build  \n",
       "1                0.206398  \n",
       "2                0.549730  \n",
       "3                0.084152  \n",
       "4                1.861480  \n",
       "5                0.247173  \n",
       "...                   ...  \n",
       "806535           0.157578  \n",
       "806536           0.197402  \n",
       "806537           0.226977  \n",
       "806538           0.183854  \n",
       "806539           0.217274  \n",
       "\n",
       "[801103 rows x 101 columns]"
      ]
     },
     "execution_count": 2,
     "metadata": {},
     "output_type": "execute_result"
    }
   ],
   "source": [
    "df_all = df_all.dropna()\n",
    "df_all"
   ]
  },
  {
   "cell_type": "code",
   "execution_count": 3,
   "id": "e25bd44b-3760-4f96-a831-c2611e1857ba",
   "metadata": {},
   "outputs": [
    {
     "name": "stdout",
     "output_type": "stream",
     "text": [
      "fs shape = (801103, 2)\n",
      "xs shape = (801103, 99)\n"
     ]
    }
   ],
   "source": [
    "fs = df_all[[\"f1\", \"f2\"]]\n",
    "xs = df_all.drop([\"f1\", \"f2\"], axis=1)\n",
    "\n",
    "print(f\"fs shape = {fs.shape}\")\n",
    "print(f\"xs shape = {xs.shape}\")"
   ]
  },
  {
   "cell_type": "code",
   "execution_count": 4,
   "id": "69ffa26b-f6b9-4381-b2c5-e7f660fd753b",
   "metadata": {},
   "outputs": [
    {
     "data": {
      "text/plain": [
       "<AxesSubplot: ylabel='Frequency'>"
      ]
     },
     "execution_count": 4,
     "metadata": {},
     "output_type": "execute_result"
    },
    {
     "data": {
      "image/png": "[encoded data removed]",
      "text/plain": [
       "<Figure size 640x480 with 1 Axes>"
      ]
     },
     "metadata": {},
     "output_type": "display_data"
    }
   ],
   "source": [
    "fs[\"f1\"].plot(kind=\"hist\", bins=100)"
   ]
  },
  {
   "cell_type": "code",
   "execution_count": 5,
   "id": "88438639-294e-4710-9e59-f74955eff66b",
   "metadata": {},
   "outputs": [
    {
     "data": {
      "text/plain": [
       "<AxesSubplot: ylabel='Frequency'>"
      ]
     },
     "execution_count": 5,
     "metadata": {},
     "output_type": "execute_result"
    },
    {
     "data": {
      "image/png": "[encoded data removed]",
      "text/plain": [
       "<Figure size 640x480 with 1 Axes>"
      ]
     },
     "metadata": {},
     "output_type": "display_data"
    }
   ],
   "source": [
    "fs[\"f1\"].plot(kind=\"hist\", bins=100, logy=True, logx=True)"
   ]
  },
  {
   "cell_type": "code",
   "execution_count": 6,
   "id": "e1d69281-fb80-4619-b839-a4b5571f488d",
   "metadata": {},
   "outputs": [
    {
     "data": {
      "text/plain": [
       "<AxesSubplot: ylabel='Frequency'>"
      ]
     },
     "execution_count": 6,
     "metadata": {},
     "output_type": "execute_result"
    },
    {
     "data": {
      "image/png": "[encoded data removed]",
      "text/plain": [
       "<Figure size 640x480 with 1 Axes>"
      ]
     },
     "metadata": {},
     "output_type": "display_data"
    }
   ],
   "source": [
    "fs[\"f2\"].plot(kind=\"hist\", bins=100)"
   ]
  },
  {
   "cell_type": "code",
   "execution_count": 7,
   "id": "59c0d865-8ef8-49fa-b08e-2d165e83675d",
   "metadata": {},
   "outputs": [
    {
     "data": {
      "text/plain": [
       "f1       AxesSubplot(0.125,0.11;0.352273x0.77)\n",
       "f2    AxesSubplot(0.547727,0.11;0.352273x0.77)\n",
       "dtype: object"
      ]
     },
     "execution_count": 7,
     "metadata": {},
     "output_type": "execute_result"
    },
    {
     "data": {
      "image/png": "[encoded data removed]",
      "text/plain": [
       "<Figure size 640x480 with 2 Axes>"
      ]
     },
     "metadata": {},
     "output_type": "display_data"
    }
   ],
   "source": [
    "fs.plot(kind=\"box\", logy=True, subplots=True)"
   ]
  },
  {
   "cell_type": "code",
   "execution_count": 8,
   "id": "d70ab9a8-bbc4-4af8-8273-084b3a35ce98",
   "metadata": {},
   "outputs": [
    {
     "name": "stdout",
     "output_type": "stream",
     "text": [
      "ideal = [24468.5     610.657]\n",
      "nadir = [1.07081e+08 1.35363e+03]\n"
     ]
    }
   ],
   "source": [
    "ideal = fs.min(axis=0)\n",
    "nadir = fs.max(axis=0)\n",
    "\n",
    "print(f\"ideal = {ideal.values}\")\n",
    "print(f\"nadir = {nadir.values}\")"
   ]
  },
  {
   "cell_type": "markdown",
   "id": "726e84dc-0621-43dd-860a-54177cddc9dc",
   "metadata": {},
   "source": [
    "# Case 1\n",
    "\n",
    "Suppose a decision maker is interested in the decision variables for solutions with objective values in a certain range of interest. We can use an explainable machine learning model to build an understanding of the features of the\n",
    "decision variables that belong to solutions with objective values in the desired range.\n",
    "\n",
    "Let us next define such a range:"
   ]
  },
  {
   "cell_type": "code",
   "execution_count": 9,
   "id": "02c74689-b3fa-4cb2-b40c-8f18ac07a7ba",
   "metadata": {},
   "outputs": [],
   "source": [
    "import numpy as np\n",
    "\n",
    "range_min = np.array([7e+4, 650])\n",
    "range_max = np.array([8e+4, 700])"
   ]
  },
  {
   "cell_type": "markdown",
   "id": "7043e857-7ae0-4b1f-a527-56b0fd8347a8",
   "metadata": {},
   "source": [
    "Next, we can label the data as follows:\n",
    "\n",
    "1: the solution is in the desired objective value range.\n",
    "\n",
    "0: the solution is not in the desired objective value range."
   ]
  },
  {
   "cell_type": "code",
   "execution_count": 10,
   "id": "a3eb75e2-a14b-44b0-b63f-958f0516b5f6",
   "metadata": {},
   "outputs": [],
   "source": [
    "labels = np.array(np.all(fs > range_min, axis=1) & np.all(fs < range_max, axis=1), dtype=int)"
   ]
  },
  {
   "cell_type": "markdown",
   "id": "284bb6f8-d5d9-4026-b58a-9f5204fd6e57",
   "metadata": {},
   "source": [
    "## Rulefi classifier"
   ]
  },
  {
   "cell_type": "code",
   "execution_count": null,
   "id": "84b93580-f6c5-4b94-b11e-806e45f5a1d9",
   "metadata": {},
   "outputs": [],
   "source": [
    "from imodels import SlipperClassifier\n",
    "\n",
    "classifier = SlipperClassifier()\n",
    "\n",
    "classifier.fit(X=xs, y=labels)"
   ]
  },
  {
   "cell_type": "code",
   "execution_count": null,
   "id": "27950729-3a0a-41cb-a1b2-aa6483cea7eb",
   "metadata": {},
   "outputs": [],
   "source": []
  }
 ],
 "metadata": {
  "kernelspec": {
   "display_name": "xaimoo-experiments",
   "language": "python",
   "name": "xaimoo-experiments"
  },
  "language_info": {
   "codemirror_mode": {
    "name": "ipython",
    "version": 3
   },
   "file_extension": ".py",
   "mimetype": "text/x-python",
   "name": "python",
   "nbconvert_exporter": "python",
   "pygments_lexer": "ipython3",
   "version": "3.10.8"
  }
 },
 "nbformat": 4,
 "nbformat_minor": 5
}

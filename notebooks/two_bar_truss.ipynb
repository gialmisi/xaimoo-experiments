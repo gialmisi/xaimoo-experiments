{
 "cells": [
  {
   "cell_type": "code",
   "execution_count": 1,
   "id": "e45cb656-c00a-4803-bfc9-01298430e4f6",
   "metadata": {
    "tags": []
   },
   "outputs": [],
   "source": [
    "import pandas as pd\n",
    "import numpy as np\n",
    "import matplotlib.pyplot as plt\n",
    "\n",
    "df_all = pd.read_csv(\"../data/TwoBarTruss.csv\", delimiter=';')"
   ]
  },
  {
   "cell_type": "code",
   "execution_count": 2,
   "id": "5041fb61-46fb-46d3-abbe-66c57bd982c5",
   "metadata": {
    "tags": []
   },
   "outputs": [
    {
     "data": {
      "text/html": [
       "<div>\n",
       "<style scoped>\n",
       "    .dataframe tbody tr th:only-of-type {\n",
       "        vertical-align: middle;\n",
       "    }\n",
       "\n",
       "    .dataframe tbody tr th {\n",
       "        vertical-align: top;\n",
       "    }\n",
       "\n",
       "    .dataframe thead th {\n",
       "        text-align: right;\n",
       "    }\n",
       "</style>\n",
       "<table border=\"1\" class=\"dataframe\">\n",
       "  <thead>\n",
       "    <tr style=\"text-align: right;\">\n",
       "      <th></th>\n",
       "      <th>Volume</th>\n",
       "      <th>MaxStress</th>\n",
       "      <th>x1</th>\n",
       "      <th>x2</th>\n",
       "      <th>y</th>\n",
       "      <th>g1</th>\n",
       "      <th>Feasible</th>\n",
       "    </tr>\n",
       "  </thead>\n",
       "  <tbody>\n",
       "    <tr>\n",
       "      <th>0</th>\n",
       "      <td>0.021916</td>\n",
       "      <td>18377.203009</td>\n",
       "      <td>0.002354</td>\n",
       "      <td>0.004815</td>\n",
       "      <td>2.115106</td>\n",
       "      <td>-81622.796991</td>\n",
       "      <td>1</td>\n",
       "    </tr>\n",
       "    <tr>\n",
       "      <th>1</th>\n",
       "      <td>0.031101</td>\n",
       "      <td>12991.022813</td>\n",
       "      <td>0.003331</td>\n",
       "      <td>0.006803</td>\n",
       "      <td>2.129376</td>\n",
       "      <td>-87008.977187</td>\n",
       "      <td>1</td>\n",
       "    </tr>\n",
       "    <tr>\n",
       "      <th>2</th>\n",
       "      <td>0.008704</td>\n",
       "      <td>46119.773223</td>\n",
       "      <td>0.000961</td>\n",
       "      <td>0.001948</td>\n",
       "      <td>2.022885</td>\n",
       "      <td>-53880.226777</td>\n",
       "      <td>1</td>\n",
       "    </tr>\n",
       "    <tr>\n",
       "      <th>3</th>\n",
       "      <td>0.038300</td>\n",
       "      <td>10514.420370</td>\n",
       "      <td>0.004061</td>\n",
       "      <td>0.008395</td>\n",
       "      <td>2.145074</td>\n",
       "      <td>-89485.579630</td>\n",
       "      <td>1</td>\n",
       "    </tr>\n",
       "    <tr>\n",
       "      <th>4</th>\n",
       "      <td>0.037292</td>\n",
       "      <td>10759.938300</td>\n",
       "      <td>0.004219</td>\n",
       "      <td>0.008331</td>\n",
       "      <td>1.977927</td>\n",
       "      <td>-89240.061700</td>\n",
       "      <td>1</td>\n",
       "    </tr>\n",
       "  </tbody>\n",
       "</table>\n",
       "</div>"
      ],
      "text/plain": [
       "     Volume     MaxStress        x1        x2         y            g1  \\\n",
       "0  0.021916  18377.203009  0.002354  0.004815  2.115106 -81622.796991   \n",
       "1  0.031101  12991.022813  0.003331  0.006803  2.129376 -87008.977187   \n",
       "2  0.008704  46119.773223  0.000961  0.001948  2.022885 -53880.226777   \n",
       "3  0.038300  10514.420370  0.004061  0.008395  2.145074 -89485.579630   \n",
       "4  0.037292  10759.938300  0.004219  0.008331  1.977927 -89240.061700   \n",
       "\n",
       "   Feasible  \n",
       "0         1  \n",
       "1         1  \n",
       "2         1  \n",
       "3         1  \n",
       "4         1  "
      ]
     },
     "execution_count": 2,
     "metadata": {},
     "output_type": "execute_result"
    }
   ],
   "source": [
    "df_all.head()"
   ]
  },
  {
   "cell_type": "code",
   "execution_count": 3,
   "id": "4469c526-0825-47e4-a99c-af60ff6f620a",
   "metadata": {
    "tags": []
   },
   "outputs": [
    {
     "data": {
      "image/png": "[encoded data removed]",
      "text/plain": [
       "<Figure size 640x480 with 1 Axes>"
      ]
     },
     "metadata": {},
     "output_type": "display_data"
    }
   ],
   "source": [
    "df_all.plot(kind=\"scatter\", x=\"Volume\", y=\"MaxStress\")\n",
    "plt.show()"
   ]
  },
  {
   "cell_type": "code",
   "execution_count": 4,
   "id": "a19b2d4e-838c-44bd-a872-205d16472bf6",
   "metadata": {
    "tags": []
   },
   "outputs": [
    {
     "name": "stdout",
     "output_type": "stream",
     "text": [
      "521\n"
     ]
    },
    {
     "data": {
      "text/html": [
       "<div>\n",
       "<style scoped>\n",
       "    .dataframe tbody tr th:only-of-type {\n",
       "        vertical-align: middle;\n",
       "    }\n",
       "\n",
       "    .dataframe tbody tr th {\n",
       "        vertical-align: top;\n",
       "    }\n",
       "\n",
       "    .dataframe thead th {\n",
       "        text-align: right;\n",
       "    }\n",
       "</style>\n",
       "<table border=\"1\" class=\"dataframe\">\n",
       "  <thead>\n",
       "    <tr style=\"text-align: right;\">\n",
       "      <th></th>\n",
       "      <th>Volume</th>\n",
       "      <th>MaxStress</th>\n",
       "      <th>x1</th>\n",
       "      <th>x2</th>\n",
       "      <th>y</th>\n",
       "      <th>g1</th>\n",
       "      <th>Feasible</th>\n",
       "    </tr>\n",
       "  </thead>\n",
       "  <tbody>\n",
       "    <tr>\n",
       "      <th>0</th>\n",
       "      <td>0.021916</td>\n",
       "      <td>18377.203009</td>\n",
       "      <td>0.002354</td>\n",
       "      <td>0.004815</td>\n",
       "      <td>2.115106</td>\n",
       "      <td>-81622.796991</td>\n",
       "      <td>1</td>\n",
       "    </tr>\n",
       "    <tr>\n",
       "      <th>1</th>\n",
       "      <td>0.031101</td>\n",
       "      <td>12991.022813</td>\n",
       "      <td>0.003331</td>\n",
       "      <td>0.006803</td>\n",
       "      <td>2.129376</td>\n",
       "      <td>-87008.977187</td>\n",
       "      <td>1</td>\n",
       "    </tr>\n",
       "    <tr>\n",
       "      <th>2</th>\n",
       "      <td>0.008704</td>\n",
       "      <td>46119.773223</td>\n",
       "      <td>0.000961</td>\n",
       "      <td>0.001948</td>\n",
       "      <td>2.022885</td>\n",
       "      <td>-53880.226777</td>\n",
       "      <td>1</td>\n",
       "    </tr>\n",
       "    <tr>\n",
       "      <th>3</th>\n",
       "      <td>0.038300</td>\n",
       "      <td>10514.420370</td>\n",
       "      <td>0.004061</td>\n",
       "      <td>0.008395</td>\n",
       "      <td>2.145074</td>\n",
       "      <td>-89485.579630</td>\n",
       "      <td>1</td>\n",
       "    </tr>\n",
       "    <tr>\n",
       "      <th>4</th>\n",
       "      <td>0.037292</td>\n",
       "      <td>10759.938300</td>\n",
       "      <td>0.004219</td>\n",
       "      <td>0.008331</td>\n",
       "      <td>1.977927</td>\n",
       "      <td>-89240.061700</td>\n",
       "      <td>1</td>\n",
       "    </tr>\n",
       "  </tbody>\n",
       "</table>\n",
       "</div>"
      ],
      "text/plain": [
       "     Volume     MaxStress        x1        x2         y            g1  \\\n",
       "0  0.021916  18377.203009  0.002354  0.004815  2.115106 -81622.796991   \n",
       "1  0.031101  12991.022813  0.003331  0.006803  2.129376 -87008.977187   \n",
       "2  0.008704  46119.773223  0.000961  0.001948  2.022885 -53880.226777   \n",
       "3  0.038300  10514.420370  0.004061  0.008395  2.145074 -89485.579630   \n",
       "4  0.037292  10759.938300  0.004219  0.008331  1.977927 -89240.061700   \n",
       "\n",
       "   Feasible  \n",
       "0         1  \n",
       "1         1  \n",
       "2         1  \n",
       "3         1  \n",
       "4         1  "
      ]
     },
     "execution_count": 4,
     "metadata": {},
     "output_type": "execute_result"
    }
   ],
   "source": [
    "from desdeo_tools.utilities import non_dominated\n",
    "\n",
    "non_dom_inds = non_dominated(df_all[[\"Volume\", \"MaxStress\"]].values)\n",
    "df_nondom = df_all[non_dom_inds].copy()\n",
    "print(df_nondom.shape[0])\n",
    "df_nondom.head()"
   ]
  },
  {
   "cell_type": "code",
   "execution_count": 5,
   "id": "62535fef-e9d2-45b9-928c-12fdb78cfa6a",
   "metadata": {
    "tags": []
   },
   "outputs": [
    {
     "data": {
      "image/png": "[encoded data removed]",
      "text/plain": [
       "<Figure size 640x480 with 1 Axes>"
      ]
     },
     "metadata": {},
     "output_type": "display_data"
    }
   ],
   "source": [
    "df_nondom.plot(kind=\"scatter\", x=\"Volume\", y=\"MaxStress\")\n",
    "plt.show()"
   ]
  },
  {
   "cell_type": "code",
   "execution_count": 6,
   "id": "a9c51e3f-fb4e-423c-80a2-150b3f972b79",
   "metadata": {
    "tags": []
   },
   "outputs": [
    {
     "name": "stdout",
     "output_type": "stream",
     "text": [
      "Sum of masks 521, sum of data 521\n"
     ]
    }
   ],
   "source": [
    "class_1_mask = df_nondom[\"MaxStress\"] > 0.1e6\n",
    "class_2_mask = np.logical_and(df_nondom[\"Volume\"] < 0.022, df_nondom[\"MaxStress\"] < 0.1e6)\n",
    "class_3_mask = np.logical_and(df_nondom[\"Volume\"] > 0.022, df_nondom[\"MaxStress\"] < 0.1e6)\n",
    "\n",
    "print(f\"Sum of masks {class_1_mask.sum() + class_2_mask.sum() + class_3_mask.sum()}, sum of data {df_nondom.shape[0]}\")"
   ]
  },
  {
   "cell_type": "code",
   "execution_count": 7,
   "id": "58d9e3e3-fdba-4b19-8de8-5065e4fc96d2",
   "metadata": {
    "tags": []
   },
   "outputs": [
    {
     "data": {
      "text/html": [
       "<div>\n",
       "<style scoped>\n",
       "    .dataframe tbody tr th:only-of-type {\n",
       "        vertical-align: middle;\n",
       "    }\n",
       "\n",
       "    .dataframe tbody tr th {\n",
       "        vertical-align: top;\n",
       "    }\n",
       "\n",
       "    .dataframe thead th {\n",
       "        text-align: right;\n",
       "    }\n",
       "</style>\n",
       "<table border=\"1\" class=\"dataframe\">\n",
       "  <thead>\n",
       "    <tr style=\"text-align: right;\">\n",
       "      <th></th>\n",
       "      <th>Volume</th>\n",
       "      <th>MaxStress</th>\n",
       "      <th>x1</th>\n",
       "      <th>x2</th>\n",
       "      <th>y</th>\n",
       "      <th>g1</th>\n",
       "      <th>Feasible</th>\n",
       "      <th>class</th>\n",
       "    </tr>\n",
       "  </thead>\n",
       "  <tbody>\n",
       "    <tr>\n",
       "      <th>0</th>\n",
       "      <td>0.021916</td>\n",
       "      <td>18377.203009</td>\n",
       "      <td>0.002354</td>\n",
       "      <td>0.004815</td>\n",
       "      <td>2.115106</td>\n",
       "      <td>-81622.796991</td>\n",
       "      <td>1</td>\n",
       "      <td>2.0</td>\n",
       "    </tr>\n",
       "    <tr>\n",
       "      <th>1</th>\n",
       "      <td>0.031101</td>\n",
       "      <td>12991.022813</td>\n",
       "      <td>0.003331</td>\n",
       "      <td>0.006803</td>\n",
       "      <td>2.129376</td>\n",
       "      <td>-87008.977187</td>\n",
       "      <td>1</td>\n",
       "      <td>3.0</td>\n",
       "    </tr>\n",
       "    <tr>\n",
       "      <th>2</th>\n",
       "      <td>0.008704</td>\n",
       "      <td>46119.773223</td>\n",
       "      <td>0.000961</td>\n",
       "      <td>0.001948</td>\n",
       "      <td>2.022885</td>\n",
       "      <td>-53880.226777</td>\n",
       "      <td>1</td>\n",
       "      <td>2.0</td>\n",
       "    </tr>\n",
       "    <tr>\n",
       "      <th>3</th>\n",
       "      <td>0.038300</td>\n",
       "      <td>10514.420370</td>\n",
       "      <td>0.004061</td>\n",
       "      <td>0.008395</td>\n",
       "      <td>2.145074</td>\n",
       "      <td>-89485.579630</td>\n",
       "      <td>1</td>\n",
       "      <td>3.0</td>\n",
       "    </tr>\n",
       "    <tr>\n",
       "      <th>4</th>\n",
       "      <td>0.037292</td>\n",
       "      <td>10759.938300</td>\n",
       "      <td>0.004219</td>\n",
       "      <td>0.008331</td>\n",
       "      <td>1.977927</td>\n",
       "      <td>-89240.061700</td>\n",
       "      <td>1</td>\n",
       "      <td>3.0</td>\n",
       "    </tr>\n",
       "  </tbody>\n",
       "</table>\n",
       "</div>"
      ],
      "text/plain": [
       "     Volume     MaxStress        x1        x2         y            g1  \\\n",
       "0  0.021916  18377.203009  0.002354  0.004815  2.115106 -81622.796991   \n",
       "1  0.031101  12991.022813  0.003331  0.006803  2.129376 -87008.977187   \n",
       "2  0.008704  46119.773223  0.000961  0.001948  2.022885 -53880.226777   \n",
       "3  0.038300  10514.420370  0.004061  0.008395  2.145074 -89485.579630   \n",
       "4  0.037292  10759.938300  0.004219  0.008331  1.977927 -89240.061700   \n",
       "\n",
       "   Feasible  class  \n",
       "0         1    2.0  \n",
       "1         1    3.0  \n",
       "2         1    2.0  \n",
       "3         1    3.0  \n",
       "4         1    3.0  "
      ]
     },
     "execution_count": 7,
     "metadata": {},
     "output_type": "execute_result"
    }
   ],
   "source": [
    "df_nondom.loc[class_1_mask, \"class\"] = 1\n",
    "df_nondom.loc[class_2_mask, \"class\"] = 2\n",
    "df_nondom.loc[class_3_mask, \"class\"] = 3\n",
    "\n",
    "df_nondom.head()"
   ]
  },
  {
   "cell_type": "code",
   "execution_count": 22,
   "id": "cea60bd1-00e4-491d-b2d2-a7d8140e9e1c",
   "metadata": {
    "tags": []
   },
   "outputs": [
    {
     "data": {
      "image/png": "[encoded data removed]",
      "text/plain": [
       "<Figure size 1920x1440 with 1 Axes>"
      ]
     },
     "metadata": {},
     "output_type": "display_data"
    }
   ],
   "source": [
    "sc = plt.scatter(x=df_nondom[\"Volume\"], y=df_nondom[\"MaxStress\"], c=df_nondom[\"class\"])\n",
    "\n",
    "plt.xlabel(\"Volume\")\n",
    "plt.ylabel(\"MaxStress\")\n",
    "\n",
    "legend = plt.legend(*sc.legend_elements(), title=\"Class\")\n",
    "plt.gca().add_artist(legend)\n",
    "\n",
    "plt.show()"
   ]
  },
  {
   "cell_type": "code",
   "execution_count": 23,
   "id": "15835ed9-5826-48a3-99e6-784021dbac0e",
   "metadata": {
    "tags": []
   },
   "outputs": [
    {
     "name": "stdout",
     "output_type": "stream",
     "text": [
      "         x1        x2         y\n",
      "0  0.002354  0.004815  2.115106\n",
      "1  0.003331  0.006803  2.129376\n",
      "2  0.000961  0.001948  2.022885\n",
      "3  0.004061  0.008395  2.145074\n",
      "4  0.004219  0.008331  1.977927\n",
      "   class\n",
      "0    2.0\n",
      "1    3.0\n",
      "2    2.0\n",
      "3    3.0\n",
      "4    3.0\n"
     ]
    }
   ],
   "source": [
    "xs = df_nondom[[\"x1\", \"x2\", \"y\"]].copy().reset_index(drop=True)  # keep indices ordinal\n",
    "ys = df_nondom[[\"class\"]].copy().reset_index(drop=True)\n",
    "\n",
    "print(xs.head())\n",
    "print(ys.head())"
   ]
  },
  {
   "cell_type": "code",
   "execution_count": 37,
   "id": "949960c2-9ac8-41f0-9392-79a032695778",
   "metadata": {
    "tags": []
   },
   "outputs": [
    {
     "data": {
      "image/svg+xml": [
       "<?xml version=\"1.0\" encoding=\"UTF-8\" standalone=\"no\"?>\n",
       "<!DOCTYPE svg PUBLIC \"-//W3C//DTD SVG 1.1//EN\"\n",
       " \"http://www.w3.org/Graphics/SVG/1.1/DTD/svg11.dtd\">\n",
       "<!-- Generated by graphviz version 7.0.1 (0)\n",
       " -->\n",
       "<!-- Title: Tree Pages: 1 -->\n",
       "<svg width=\"695pt\" height=\"552pt\"\n",
       " viewBox=\"0.00 0.00 694.50 552.00\" xmlns=\"http://www.w3.org/2000/svg\" xmlns:xlink=\"http://www.w3.org/1999/xlink\">\n",
       "<g id=\"graph0\" class=\"graph\" transform=\"scale(1 1) rotate(0) translate(4 548)\">\n",
       "<title>Tree</title>\n",
       "<polygon fill=\"white\" stroke=\"none\" points=\"-4,4 -4,-548 690.5,-548 690.5,4 -4,4\"/>\n",
       "<!-- 0 -->\n",
       "<g id=\"node1\" class=\"node\">\n",
       "<title>0</title>\n",
       "<polygon fill=\"#f0fdf6\" stroke=\"black\" points=\"440.5,-544 183.5,-544 183.5,-461 440.5,-461 440.5,-544\"/>\n",
       "<text text-anchor=\"middle\" x=\"312\" y=\"-528.8\" font-family=\"Helvetica,sans-Serif\" font-size=\"14.00\">x2 &lt;= 0.00485</text>\n",
       "<text text-anchor=\"middle\" x=\"312\" y=\"-513.8\" font-family=\"Helvetica,sans-Serif\" font-size=\"14.00\">gini = 0.53195</text>\n",
       "<text text-anchor=\"middle\" x=\"312\" y=\"-498.8\" font-family=\"Helvetica,sans-Serif\" font-size=\"14.00\">samples = 521</text>\n",
       "<text text-anchor=\"middle\" x=\"312\" y=\"-483.8\" font-family=\"Helvetica,sans-Serif\" font-size=\"14.00\">value = [18, 262, 241]</text>\n",
       "<text text-anchor=\"middle\" x=\"312\" y=\"-468.8\" font-family=\"Helvetica,sans-Serif\" font-size=\"14.00\">class = Small stress, small volume</text>\n",
       "</g>\n",
       "<!-- 1 -->\n",
       "<g id=\"node2\" class=\"node\">\n",
       "<title>1</title>\n",
       "<polygon fill=\"#48e78b\" stroke=\"black\" points=\"306.5,-425 49.5,-425 49.5,-342 306.5,-342 306.5,-425\"/>\n",
       "<text text-anchor=\"middle\" x=\"178\" y=\"-409.8\" font-family=\"Helvetica,sans-Serif\" font-size=\"14.00\">x2 &lt;= 0.00095</text>\n",
       "<text text-anchor=\"middle\" x=\"178\" y=\"-394.8\" font-family=\"Helvetica,sans-Serif\" font-size=\"14.00\">gini = 0.13269</text>\n",
       "<text text-anchor=\"middle\" x=\"178\" y=\"-379.8\" font-family=\"Helvetica,sans-Serif\" font-size=\"14.00\">samples = 282</text>\n",
       "<text text-anchor=\"middle\" x=\"178\" y=\"-364.8\" font-family=\"Helvetica,sans-Serif\" font-size=\"14.00\">value = [18, 262, 2]</text>\n",
       "<text text-anchor=\"middle\" x=\"178\" y=\"-349.8\" font-family=\"Helvetica,sans-Serif\" font-size=\"14.00\">class = Small stress, small volume</text>\n",
       "</g>\n",
       "<!-- 0&#45;&gt;1 -->\n",
       "<g id=\"edge1\" class=\"edge\">\n",
       "<title>0&#45;&gt;1</title>\n",
       "<path fill=\"none\" stroke=\"black\" d=\"M265.13,-460.58C254.77,-451.53 243.7,-441.87 233.05,-432.56\"/>\n",
       "<polygon fill=\"black\" stroke=\"black\" points=\"235.59,-430.14 225.75,-426.2 230.98,-435.41 235.59,-430.14\"/>\n",
       "<text text-anchor=\"middle\" x=\"226.3\" y=\"-446.44\" font-family=\"Helvetica,sans-Serif\" font-size=\"14.00\">True</text>\n",
       "</g>\n",
       "<!-- 2 -->\n",
       "<g id=\"node9\" class=\"node\">\n",
       "<title>2</title>\n",
       "<polygon fill=\"#8139e5\" stroke=\"black\" points=\"567,-417.5 325,-417.5 325,-349.5 567,-349.5 567,-417.5\"/>\n",
       "<text text-anchor=\"middle\" x=\"446\" y=\"-402.3\" font-family=\"Helvetica,sans-Serif\" font-size=\"14.00\">gini = 0.0</text>\n",
       "<text text-anchor=\"middle\" x=\"446\" y=\"-387.3\" font-family=\"Helvetica,sans-Serif\" font-size=\"14.00\">samples = 239</text>\n",
       "<text text-anchor=\"middle\" x=\"446\" y=\"-372.3\" font-family=\"Helvetica,sans-Serif\" font-size=\"14.00\">value = [0, 0, 239]</text>\n",
       "<text text-anchor=\"middle\" x=\"446\" y=\"-357.3\" font-family=\"Helvetica,sans-Serif\" font-size=\"14.00\">class = Small stress, big volume</text>\n",
       "</g>\n",
       "<!-- 0&#45;&gt;2 -->\n",
       "<g id=\"edge8\" class=\"edge\">\n",
       "<title>0&#45;&gt;2</title>\n",
       "<path fill=\"none\" stroke=\"black\" d=\"M358.87,-460.58C371.99,-449.12 386.25,-436.67 399.36,-425.22\"/>\n",
       "<polygon fill=\"black\" stroke=\"black\" points=\"401.42,-428.07 406.65,-418.86 396.82,-422.8 401.42,-428.07\"/>\n",
       "<text text-anchor=\"middle\" x=\"406.1\" y=\"-439.1\" font-family=\"Helvetica,sans-Serif\" font-size=\"14.00\">False</text>\n",
       "</g>\n",
       "<!-- 3 -->\n",
       "<g id=\"node3\" class=\"node\">\n",
       "<title>3</title>\n",
       "<polygon fill=\"#e58139\" stroke=\"black\" points=\"140,-298.5 0,-298.5 0,-230.5 140,-230.5 140,-298.5\"/>\n",
       "<text text-anchor=\"middle\" x=\"70\" y=\"-283.3\" font-family=\"Helvetica,sans-Serif\" font-size=\"14.00\">gini = 0.0</text>\n",
       "<text text-anchor=\"middle\" x=\"70\" y=\"-268.3\" font-family=\"Helvetica,sans-Serif\" font-size=\"14.00\">samples = 18</text>\n",
       "<text text-anchor=\"middle\" x=\"70\" y=\"-253.3\" font-family=\"Helvetica,sans-Serif\" font-size=\"14.00\">value = [18, 0, 0]</text>\n",
       "<text text-anchor=\"middle\" x=\"70\" y=\"-238.3\" font-family=\"Helvetica,sans-Serif\" font-size=\"14.00\">class = Big stress</text>\n",
       "</g>\n",
       "<!-- 1&#45;&gt;3 -->\n",
       "<g id=\"edge2\" class=\"edge\">\n",
       "<title>1&#45;&gt;3</title>\n",
       "<path fill=\"none\" stroke=\"black\" d=\"M140.23,-341.58C129.95,-330.45 118.81,-318.38 108.49,-307.2\"/>\n",
       "<polygon fill=\"black\" stroke=\"black\" points=\"111.18,-304.95 101.82,-299.97 106.03,-309.7 111.18,-304.95\"/>\n",
       "</g>\n",
       "<!-- 4 -->\n",
       "<g id=\"node4\" class=\"node\">\n",
       "<title>4</title>\n",
       "<polygon fill=\"#3be582\" stroke=\"black\" points=\"415.5,-306 158.5,-306 158.5,-223 415.5,-223 415.5,-306\"/>\n",
       "<text text-anchor=\"middle\" x=\"287\" y=\"-290.8\" font-family=\"Helvetica,sans-Serif\" font-size=\"14.00\">x2 &lt;= 0.00483</text>\n",
       "<text text-anchor=\"middle\" x=\"287\" y=\"-275.8\" font-family=\"Helvetica,sans-Serif\" font-size=\"14.00\">gini = 0.01504</text>\n",
       "<text text-anchor=\"middle\" x=\"287\" y=\"-260.8\" font-family=\"Helvetica,sans-Serif\" font-size=\"14.00\">samples = 264</text>\n",
       "<text text-anchor=\"middle\" x=\"287\" y=\"-245.8\" font-family=\"Helvetica,sans-Serif\" font-size=\"14.00\">value = [0, 262, 2]</text>\n",
       "<text text-anchor=\"middle\" x=\"287\" y=\"-230.8\" font-family=\"Helvetica,sans-Serif\" font-size=\"14.00\">class = Small stress, small volume</text>\n",
       "</g>\n",
       "<!-- 1&#45;&gt;4 -->\n",
       "<g id=\"edge3\" class=\"edge\">\n",
       "<title>1&#45;&gt;4</title>\n",
       "<path fill=\"none\" stroke=\"black\" d=\"M216.12,-341.58C224.3,-332.8 233.02,-323.44 241.45,-314.39\"/>\n",
       "<polygon fill=\"black\" stroke=\"black\" points=\"243.8,-317.01 248.05,-307.31 238.67,-312.24 243.8,-317.01\"/>\n",
       "</g>\n",
       "<!-- 5 -->\n",
       "<g id=\"node5\" class=\"node\">\n",
       "<title>5</title>\n",
       "<polygon fill=\"#39e581\" stroke=\"black\" points=\"277.5,-179.5 20.5,-179.5 20.5,-111.5 277.5,-111.5 277.5,-179.5\"/>\n",
       "<text text-anchor=\"middle\" x=\"149\" y=\"-164.3\" font-family=\"Helvetica,sans-Serif\" font-size=\"14.00\">gini = 0.0</text>\n",
       "<text text-anchor=\"middle\" x=\"149\" y=\"-149.3\" font-family=\"Helvetica,sans-Serif\" font-size=\"14.00\">samples = 259</text>\n",
       "<text text-anchor=\"middle\" x=\"149\" y=\"-134.3\" font-family=\"Helvetica,sans-Serif\" font-size=\"14.00\">value = [0, 259, 0]</text>\n",
       "<text text-anchor=\"middle\" x=\"149\" y=\"-119.3\" font-family=\"Helvetica,sans-Serif\" font-size=\"14.00\">class = Small stress, small volume</text>\n",
       "</g>\n",
       "<!-- 4&#45;&gt;5 -->\n",
       "<g id=\"edge4\" class=\"edge\">\n",
       "<title>4&#45;&gt;5</title>\n",
       "<path fill=\"none\" stroke=\"black\" d=\"M238.73,-222.58C225.22,-211.12 210.53,-198.67 197.03,-187.22\"/>\n",
       "<polygon fill=\"black\" stroke=\"black\" points=\"199.39,-184.64 189.5,-180.84 194.87,-189.98 199.39,-184.64\"/>\n",
       "</g>\n",
       "<!-- 6 -->\n",
       "<g id=\"node6\" class=\"node\">\n",
       "<title>6</title>\n",
       "<polygon fill=\"#bdf6d5\" stroke=\"black\" points=\"552.5,-187 295.5,-187 295.5,-104 552.5,-104 552.5,-187\"/>\n",
       "<text text-anchor=\"middle\" x=\"424\" y=\"-171.8\" font-family=\"Helvetica,sans-Serif\" font-size=\"14.00\">x2 &lt;= 0.00483</text>\n",
       "<text text-anchor=\"middle\" x=\"424\" y=\"-156.8\" font-family=\"Helvetica,sans-Serif\" font-size=\"14.00\">gini = 0.48</text>\n",
       "<text text-anchor=\"middle\" x=\"424\" y=\"-141.8\" font-family=\"Helvetica,sans-Serif\" font-size=\"14.00\">samples = 5</text>\n",
       "<text text-anchor=\"middle\" x=\"424\" y=\"-126.8\" font-family=\"Helvetica,sans-Serif\" font-size=\"14.00\">value = [0, 3, 2]</text>\n",
       "<text text-anchor=\"middle\" x=\"424\" y=\"-111.8\" font-family=\"Helvetica,sans-Serif\" font-size=\"14.00\">class = Small stress, small volume</text>\n",
       "</g>\n",
       "<!-- 4&#45;&gt;6 -->\n",
       "<g id=\"edge5\" class=\"edge\">\n",
       "<title>4&#45;&gt;6</title>\n",
       "<path fill=\"none\" stroke=\"black\" d=\"M334.92,-222.58C345.51,-213.53 356.83,-203.87 367.72,-194.56\"/>\n",
       "<polygon fill=\"black\" stroke=\"black\" points=\"369.86,-197.34 375.19,-188.18 365.31,-192.02 369.86,-197.34\"/>\n",
       "</g>\n",
       "<!-- 7 -->\n",
       "<g id=\"node7\" class=\"node\">\n",
       "<title>7</title>\n",
       "<polygon fill=\"#8139e5\" stroke=\"black\" points=\"411,-68 169,-68 169,0 411,0 411,-68\"/>\n",
       "<text text-anchor=\"middle\" x=\"290\" y=\"-52.8\" font-family=\"Helvetica,sans-Serif\" font-size=\"14.00\">gini = 0.0</text>\n",
       "<text text-anchor=\"middle\" x=\"290\" y=\"-37.8\" font-family=\"Helvetica,sans-Serif\" font-size=\"14.00\">samples = 2</text>\n",
       "<text text-anchor=\"middle\" x=\"290\" y=\"-22.8\" font-family=\"Helvetica,sans-Serif\" font-size=\"14.00\">value = [0, 0, 2]</text>\n",
       "<text text-anchor=\"middle\" x=\"290\" y=\"-7.8\" font-family=\"Helvetica,sans-Serif\" font-size=\"14.00\">class = Small stress, big volume</text>\n",
       "</g>\n",
       "<!-- 6&#45;&gt;7 -->\n",
       "<g id=\"edge6\" class=\"edge\">\n",
       "<title>6&#45;&gt;7</title>\n",
       "<path fill=\"none\" stroke=\"black\" d=\"M374.1,-103.73C362.83,-94.51 350.86,-84.74 339.6,-75.53\"/>\n",
       "<polygon fill=\"black\" stroke=\"black\" points=\"341.88,-72.87 331.92,-69.26 337.45,-78.3 341.88,-72.87\"/>\n",
       "</g>\n",
       "<!-- 8 -->\n",
       "<g id=\"node8\" class=\"node\">\n",
       "<title>8</title>\n",
       "<polygon fill=\"#39e581\" stroke=\"black\" points=\"686.5,-68 429.5,-68 429.5,0 686.5,0 686.5,-68\"/>\n",
       "<text text-anchor=\"middle\" x=\"558\" y=\"-52.8\" font-family=\"Helvetica,sans-Serif\" font-size=\"14.00\">gini = 0.0</text>\n",
       "<text text-anchor=\"middle\" x=\"558\" y=\"-37.8\" font-family=\"Helvetica,sans-Serif\" font-size=\"14.00\">samples = 3</text>\n",
       "<text text-anchor=\"middle\" x=\"558\" y=\"-22.8\" font-family=\"Helvetica,sans-Serif\" font-size=\"14.00\">value = [0, 3, 0]</text>\n",
       "<text text-anchor=\"middle\" x=\"558\" y=\"-7.8\" font-family=\"Helvetica,sans-Serif\" font-size=\"14.00\">class = Small stress, small volume</text>\n",
       "</g>\n",
       "<!-- 6&#45;&gt;8 -->\n",
       "<g id=\"edge7\" class=\"edge\">\n",
       "<title>6&#45;&gt;8</title>\n",
       "<path fill=\"none\" stroke=\"black\" d=\"M473.9,-103.73C485.17,-94.51 497.14,-84.74 508.4,-75.53\"/>\n",
       "<polygon fill=\"black\" stroke=\"black\" points=\"510.55,-78.3 516.08,-69.26 506.12,-72.87 510.55,-78.3\"/>\n",
       "</g>\n",
       "</g>\n",
       "</svg>\n"
      ],
      "text/plain": [
       "<graphviz.sources.Source at 0x7f75f4dc3d00>"
      ]
     },
     "execution_count": 37,
     "metadata": {},
     "output_type": "execute_result"
    }
   ],
   "source": [
    "# from imodels import FIGSClassifier as Classifier\n",
    "from sklearn import tree\n",
    "Classifier = tree.DecisionTreeClassifier\n",
    "from imodels.discretization import ExtraBasicDiscretizer as Discretizer\n",
    "import graphviz\n",
    "\n",
    "\"\"\"\n",
    "discretizer = Discretizer([\"x1\", \"x2\", \"y\"])\n",
    "discretizer.fit(xs)\n",
    "xs_discrete = discretizer.transform(xs)\n",
    "\"\"\"\n",
    "\n",
    "classifier = Classifier(max_leaf_nodes=10)\n",
    "classifier.fit(xs, ys)\n",
    "\n",
    "dot_data = tree.export_graphviz(classifier, out_file=None, \n",
    "                     feature_names=[\"x1\", \"x2\", \"y\"],  \n",
    "                     class_names=[\"Big stress\", \"Small stress, small volume\", \"Small stress, big volume\"],  \n",
    "                     filled=True, rounded=False, precision=5,  \n",
    "                     special_characters=False)  \n",
    "graph = graphviz.Source(dot_data)  \n",
    "graph "
   ]
  },
  {
   "cell_type": "code",
   "execution_count": 33,
   "id": "1cdbe0fe-7793-432a-ba0a-2b6ed8583e7e",
   "metadata": {
    "tags": []
   },
   "outputs": [
    {
     "name": "stdout",
     "output_type": "stream",
     "text": [
      "|--- feature_1 <= 0.00485\n",
      "|   |--- feature_1 <= 0.00095\n",
      "|   |   |--- class: 1.0\n",
      "|   |--- feature_1 >  0.00095\n",
      "|   |   |--- feature_1 <= 0.00483\n",
      "|   |   |   |--- class: 2.0\n",
      "|   |   |--- feature_1 >  0.00483\n",
      "|   |   |   |--- feature_1 <= 0.00483\n",
      "|   |   |   |   |--- class: 3.0\n",
      "|   |   |   |--- feature_1 >  0.00483\n",
      "|   |   |   |   |--- class: 2.0\n",
      "|--- feature_1 >  0.00485\n",
      "|   |--- class: 3.0\n",
      "\n"
     ]
    }
   ],
   "source": [
    "print(tree.export_text(classifier, decimals=5))"
   ]
  },
  {
   "cell_type": "code",
   "execution_count": null,
   "id": "46af89d3-d490-4428-897e-9e5e9c790941",
   "metadata": {},
   "outputs": [],
   "source": []
  }
 ],
 "metadata": {
  "kernelspec": {
   "display_name": "xaimoo-experiments",
   "language": "python",
   "name": "xaimoo-experiments"
  },
  "language_info": {
   "codemirror_mode": {
    "name": "ipython",
    "version": 3
   },
   "file_extension": ".py",
   "mimetype": "text/x-python",
   "name": "python",
   "nbconvert_exporter": "python",
   "pygments_lexer": "ipython3",
   "version": "3.10.9"
  }
 },
 "nbformat": 4,
 "nbformat_minor": 5
}

{
 "cells": [
  {
   "cell_type": "code",
   "execution_count": 47,
   "id": "e45cb656-c00a-4803-bfc9-01298430e4f6",
   "metadata": {
    "tags": []
   },
   "outputs": [],
   "source": [
    "import pandas as pd\n",
    "import numpy as np\n",
    "import matplotlib.pyplot as plt\n",
    "\n",
    "df_all = pd.read_csv(\"../data/TwoBarTruss.csv\", delimiter=';')"
   ]
  },
  {
   "cell_type": "code",
   "execution_count": 48,
   "id": "5041fb61-46fb-46d3-abbe-66c57bd982c5",
   "metadata": {
    "tags": []
   },
   "outputs": [
    {
     "data": {
      "text/html": [
       "<div>\n",
       "<style scoped>\n",
       "    .dataframe tbody tr th:only-of-type {\n",
       "        vertical-align: middle;\n",
       "    }\n",
       "\n",
       "    .dataframe tbody tr th {\n",
       "        vertical-align: top;\n",
       "    }\n",
       "\n",
       "    .dataframe thead th {\n",
       "        text-align: right;\n",
       "    }\n",
       "</style>\n",
       "<table border=\"1\" class=\"dataframe\">\n",
       "  <thead>\n",
       "    <tr style=\"text-align: right;\">\n",
       "      <th></th>\n",
       "      <th>Volume</th>\n",
       "      <th>MaxStress</th>\n",
       "      <th>x1</th>\n",
       "      <th>x2</th>\n",
       "      <th>y</th>\n",
       "      <th>g1</th>\n",
       "      <th>Feasible</th>\n",
       "    </tr>\n",
       "  </thead>\n",
       "  <tbody>\n",
       "    <tr>\n",
       "      <th>0</th>\n",
       "      <td>0.021916</td>\n",
       "      <td>18377.203009</td>\n",
       "      <td>0.002354</td>\n",
       "      <td>0.004815</td>\n",
       "      <td>2.115106</td>\n",
       "      <td>-81622.796991</td>\n",
       "      <td>1</td>\n",
       "    </tr>\n",
       "    <tr>\n",
       "      <th>1</th>\n",
       "      <td>0.031101</td>\n",
       "      <td>12991.022813</td>\n",
       "      <td>0.003331</td>\n",
       "      <td>0.006803</td>\n",
       "      <td>2.129376</td>\n",
       "      <td>-87008.977187</td>\n",
       "      <td>1</td>\n",
       "    </tr>\n",
       "    <tr>\n",
       "      <th>2</th>\n",
       "      <td>0.008704</td>\n",
       "      <td>46119.773223</td>\n",
       "      <td>0.000961</td>\n",
       "      <td>0.001948</td>\n",
       "      <td>2.022885</td>\n",
       "      <td>-53880.226777</td>\n",
       "      <td>1</td>\n",
       "    </tr>\n",
       "    <tr>\n",
       "      <th>3</th>\n",
       "      <td>0.038300</td>\n",
       "      <td>10514.420370</td>\n",
       "      <td>0.004061</td>\n",
       "      <td>0.008395</td>\n",
       "      <td>2.145074</td>\n",
       "      <td>-89485.579630</td>\n",
       "      <td>1</td>\n",
       "    </tr>\n",
       "    <tr>\n",
       "      <th>4</th>\n",
       "      <td>0.037292</td>\n",
       "      <td>10759.938300</td>\n",
       "      <td>0.004219</td>\n",
       "      <td>0.008331</td>\n",
       "      <td>1.977927</td>\n",
       "      <td>-89240.061700</td>\n",
       "      <td>1</td>\n",
       "    </tr>\n",
       "  </tbody>\n",
       "</table>\n",
       "</div>"
      ],
      "text/plain": [
       "     Volume     MaxStress        x1        x2         y            g1  \\\n",
       "0  0.021916  18377.203009  0.002354  0.004815  2.115106 -81622.796991   \n",
       "1  0.031101  12991.022813  0.003331  0.006803  2.129376 -87008.977187   \n",
       "2  0.008704  46119.773223  0.000961  0.001948  2.022885 -53880.226777   \n",
       "3  0.038300  10514.420370  0.004061  0.008395  2.145074 -89485.579630   \n",
       "4  0.037292  10759.938300  0.004219  0.008331  1.977927 -89240.061700   \n",
       "\n",
       "   Feasible  \n",
       "0         1  \n",
       "1         1  \n",
       "2         1  \n",
       "3         1  \n",
       "4         1  "
      ]
     },
     "execution_count": 48,
     "metadata": {},
     "output_type": "execute_result"
    }
   ],
   "source": [
    "df_all.head()"
   ]
  },
  {
   "cell_type": "code",
   "execution_count": 49,
   "id": "4469c526-0825-47e4-a99c-af60ff6f620a",
   "metadata": {
    "tags": []
   },
   "outputs": [
    {
     "data": {
      "image/png": "[encoded data removed]",
      "text/plain": [
       "<Figure size 640x480 with 1 Axes>"
      ]
     },
     "metadata": {},
     "output_type": "display_data"
    }
   ],
   "source": [
    "df_all.plot(kind=\"scatter\", x=\"Volume\", y=\"MaxStress\")\n",
    "plt.show()"
   ]
  },
  {
   "cell_type": "code",
   "execution_count": 50,
   "id": "a19b2d4e-838c-44bd-a872-205d16472bf6",
   "metadata": {
    "tags": []
   },
   "outputs": [
    {
     "name": "stdout",
     "output_type": "stream",
     "text": [
      "521\n"
     ]
    },
    {
     "data": {
      "text/html": [
       "<div>\n",
       "<style scoped>\n",
       "    .dataframe tbody tr th:only-of-type {\n",
       "        vertical-align: middle;\n",
       "    }\n",
       "\n",
       "    .dataframe tbody tr th {\n",
       "        vertical-align: top;\n",
       "    }\n",
       "\n",
       "    .dataframe thead th {\n",
       "        text-align: right;\n",
       "    }\n",
       "</style>\n",
       "<table border=\"1\" class=\"dataframe\">\n",
       "  <thead>\n",
       "    <tr style=\"text-align: right;\">\n",
       "      <th></th>\n",
       "      <th>Volume</th>\n",
       "      <th>MaxStress</th>\n",
       "      <th>x1</th>\n",
       "      <th>x2</th>\n",
       "      <th>y</th>\n",
       "      <th>g1</th>\n",
       "      <th>Feasible</th>\n",
       "    </tr>\n",
       "  </thead>\n",
       "  <tbody>\n",
       "    <tr>\n",
       "      <th>0</th>\n",
       "      <td>0.021916</td>\n",
       "      <td>18377.203009</td>\n",
       "      <td>0.002354</td>\n",
       "      <td>0.004815</td>\n",
       "      <td>2.115106</td>\n",
       "      <td>-81622.796991</td>\n",
       "      <td>1</td>\n",
       "    </tr>\n",
       "    <tr>\n",
       "      <th>1</th>\n",
       "      <td>0.031101</td>\n",
       "      <td>12991.022813</td>\n",
       "      <td>0.003331</td>\n",
       "      <td>0.006803</td>\n",
       "      <td>2.129376</td>\n",
       "      <td>-87008.977187</td>\n",
       "      <td>1</td>\n",
       "    </tr>\n",
       "    <tr>\n",
       "      <th>2</th>\n",
       "      <td>0.008704</td>\n",
       "      <td>46119.773223</td>\n",
       "      <td>0.000961</td>\n",
       "      <td>0.001948</td>\n",
       "      <td>2.022885</td>\n",
       "      <td>-53880.226777</td>\n",
       "      <td>1</td>\n",
       "    </tr>\n",
       "    <tr>\n",
       "      <th>3</th>\n",
       "      <td>0.038300</td>\n",
       "      <td>10514.420370</td>\n",
       "      <td>0.004061</td>\n",
       "      <td>0.008395</td>\n",
       "      <td>2.145074</td>\n",
       "      <td>-89485.579630</td>\n",
       "      <td>1</td>\n",
       "    </tr>\n",
       "    <tr>\n",
       "      <th>4</th>\n",
       "      <td>0.037292</td>\n",
       "      <td>10759.938300</td>\n",
       "      <td>0.004219</td>\n",
       "      <td>0.008331</td>\n",
       "      <td>1.977927</td>\n",
       "      <td>-89240.061700</td>\n",
       "      <td>1</td>\n",
       "    </tr>\n",
       "  </tbody>\n",
       "</table>\n",
       "</div>"
      ],
      "text/plain": [
       "     Volume     MaxStress        x1        x2         y            g1  \\\n",
       "0  0.021916  18377.203009  0.002354  0.004815  2.115106 -81622.796991   \n",
       "1  0.031101  12991.022813  0.003331  0.006803  2.129376 -87008.977187   \n",
       "2  0.008704  46119.773223  0.000961  0.001948  2.022885 -53880.226777   \n",
       "3  0.038300  10514.420370  0.004061  0.008395  2.145074 -89485.579630   \n",
       "4  0.037292  10759.938300  0.004219  0.008331  1.977927 -89240.061700   \n",
       "\n",
       "   Feasible  \n",
       "0         1  \n",
       "1         1  \n",
       "2         1  \n",
       "3         1  \n",
       "4         1  "
      ]
     },
     "execution_count": 50,
     "metadata": {},
     "output_type": "execute_result"
    }
   ],
   "source": [
    "from desdeo_tools.utilities import non_dominated\n",
    "\n",
    "non_dom_inds = non_dominated(df_all[[\"Volume\", \"MaxStress\"]].values)\n",
    "df_nondom = df_all[non_dom_inds]\n",
    "print(df_nondom.shape[0])\n",
    "df_nondom.head()"
   ]
  },
  {
   "cell_type": "code",
   "execution_count": 51,
   "id": "62535fef-e9d2-45b9-928c-12fdb78cfa6a",
   "metadata": {
    "tags": []
   },
   "outputs": [
    {
     "data": {
      "image/png": "[encoded data removed]",
      "text/plain": [
       "<Figure size 640x480 with 1 Axes>"
      ]
     },
     "metadata": {},
     "output_type": "display_data"
    }
   ],
   "source": [
    "df_nondom.plot(kind=\"scatter\", x=\"Volume\", y=\"MaxStress\")\n",
    "plt.show()"
   ]
  },
  {
   "cell_type": "code",
   "execution_count": 56,
   "id": "a9c51e3f-fb4e-423c-80a2-150b3f972b79",
   "metadata": {
    "tags": []
   },
   "outputs": [
    {
     "name": "stdout",
     "output_type": "stream",
     "text": [
      "Sum of masks 521, sum of data 521\n"
     ]
    }
   ],
   "source": [
    "class_1_mask = df_nondom[\"MaxStress\"] > 0.1e6\n",
    "class_2_mask = np.logical_and(df_nondom[\"Volume\"] < 0.022, df_nondom[\"MaxStress\"] < 0.1e6)\n",
    "class_3_mask = np.logical_and(df_nondom[\"Volume\"] > 0.022, df_nondom[\"MaxStress\"] < 0.1e6)\n",
    "\n",
    "print(f\"Sum of masks {class_1_mask.sum() + class_2_mask.sum() + class_3_mask.sum()}, sum of data {df_nondom.shape[0]}\")"
   ]
  },
  {
   "cell_type": "code",
   "execution_count": null,
   "id": "58d9e3e3-fdba-4b19-8de8-5065e4fc96d2",
   "metadata": {},
   "outputs": [],
   "source": []
  }
 ],
 "metadata": {
  "kernelspec": {
   "display_name": "xaimoo",
   "language": "python",
   "name": "xaimoo"
  },
  "language_info": {
   "codemirror_mode": {
    "name": "ipython",
    "version": 3
   },
   "file_extension": ".py",
   "mimetype": "text/x-python",
   "name": "python",
   "nbconvert_exporter": "python",
   "pygments_lexer": "ipython3",
   "version": "3.8.12"
  }
 },
 "nbformat": 4,
 "nbformat_minor": 5
}

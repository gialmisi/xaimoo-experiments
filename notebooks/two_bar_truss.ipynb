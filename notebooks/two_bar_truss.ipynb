{
 "cells": [
  {
   "cell_type": "code",
   "execution_count": 1,
   "id": "e45cb656-c00a-4803-bfc9-01298430e4f6",
   "metadata": {
    "tags": []
   },
   "outputs": [],
   "source": [
    "import pandas as pd\n",
    "import numpy as np\n",
    "import matplotlib.pyplot as plt\n",
    "\n",
    "df_all = pd.read_csv(\"../data/TwoBarTruss.csv\", delimiter=';')"
   ]
  },
  {
   "cell_type": "code",
   "execution_count": 2,
   "id": "5041fb61-46fb-46d3-abbe-66c57bd982c5",
   "metadata": {
    "tags": []
   },
   "outputs": [
    {
     "data": {
      "text/html": [
       "<div>\n",
       "<style scoped>\n",
       "    .dataframe tbody tr th:only-of-type {\n",
       "        vertical-align: middle;\n",
       "    }\n",
       "\n",
       "    .dataframe tbody tr th {\n",
       "        vertical-align: top;\n",
       "    }\n",
       "\n",
       "    .dataframe thead th {\n",
       "        text-align: right;\n",
       "    }\n",
       "</style>\n",
       "<table border=\"1\" class=\"dataframe\">\n",
       "  <thead>\n",
       "    <tr style=\"text-align: right;\">\n",
       "      <th></th>\n",
       "      <th>Volume</th>\n",
       "      <th>MaxStress</th>\n",
       "      <th>x1</th>\n",
       "      <th>x2</th>\n",
       "      <th>y</th>\n",
       "      <th>g1</th>\n",
       "      <th>Feasible</th>\n",
       "    </tr>\n",
       "  </thead>\n",
       "  <tbody>\n",
       "    <tr>\n",
       "      <th>0</th>\n",
       "      <td>0.021916</td>\n",
       "      <td>18377.203009</td>\n",
       "      <td>0.002354</td>\n",
       "      <td>0.004815</td>\n",
       "      <td>2.115106</td>\n",
       "      <td>-81622.796991</td>\n",
       "      <td>1</td>\n",
       "    </tr>\n",
       "    <tr>\n",
       "      <th>1</th>\n",
       "      <td>0.031101</td>\n",
       "      <td>12991.022813</td>\n",
       "      <td>0.003331</td>\n",
       "      <td>0.006803</td>\n",
       "      <td>2.129376</td>\n",
       "      <td>-87008.977187</td>\n",
       "      <td>1</td>\n",
       "    </tr>\n",
       "    <tr>\n",
       "      <th>2</th>\n",
       "      <td>0.008704</td>\n",
       "      <td>46119.773223</td>\n",
       "      <td>0.000961</td>\n",
       "      <td>0.001948</td>\n",
       "      <td>2.022885</td>\n",
       "      <td>-53880.226777</td>\n",
       "      <td>1</td>\n",
       "    </tr>\n",
       "    <tr>\n",
       "      <th>3</th>\n",
       "      <td>0.038300</td>\n",
       "      <td>10514.420370</td>\n",
       "      <td>0.004061</td>\n",
       "      <td>0.008395</td>\n",
       "      <td>2.145074</td>\n",
       "      <td>-89485.579630</td>\n",
       "      <td>1</td>\n",
       "    </tr>\n",
       "    <tr>\n",
       "      <th>4</th>\n",
       "      <td>0.037292</td>\n",
       "      <td>10759.938300</td>\n",
       "      <td>0.004219</td>\n",
       "      <td>0.008331</td>\n",
       "      <td>1.977927</td>\n",
       "      <td>-89240.061700</td>\n",
       "      <td>1</td>\n",
       "    </tr>\n",
       "  </tbody>\n",
       "</table>\n",
       "</div>"
      ],
      "text/plain": [
       "     Volume     MaxStress        x1        x2         y            g1  \\\n",
       "0  0.021916  18377.203009  0.002354  0.004815  2.115106 -81622.796991   \n",
       "1  0.031101  12991.022813  0.003331  0.006803  2.129376 -87008.977187   \n",
       "2  0.008704  46119.773223  0.000961  0.001948  2.022885 -53880.226777   \n",
       "3  0.038300  10514.420370  0.004061  0.008395  2.145074 -89485.579630   \n",
       "4  0.037292  10759.938300  0.004219  0.008331  1.977927 -89240.061700   \n",
       "\n",
       "   Feasible  \n",
       "0         1  \n",
       "1         1  \n",
       "2         1  \n",
       "3         1  \n",
       "4         1  "
      ]
     },
     "execution_count": 2,
     "metadata": {},
     "output_type": "execute_result"
    }
   ],
   "source": [
    "df_all.head()"
   ]
  },
  {
   "cell_type": "code",
   "execution_count": 3,
   "id": "4469c526-0825-47e4-a99c-af60ff6f620a",
   "metadata": {
    "tags": []
   },
   "outputs": [
    {
     "data": {
      "image/png": "[encoded data removed]",
      "text/plain": [
       "<Figure size 640x480 with 1 Axes>"
      ]
     },
     "metadata": {},
     "output_type": "display_data"
    }
   ],
   "source": [
    "df_all.plot(kind=\"scatter\", x=\"Volume\", y=\"MaxStress\")\n",
    "plt.show()"
   ]
  },
  {
   "cell_type": "code",
   "execution_count": 4,
   "id": "a19b2d4e-838c-44bd-a872-205d16472bf6",
   "metadata": {
    "tags": []
   },
   "outputs": [
    {
     "name": "stdout",
     "output_type": "stream",
     "text": [
      "521\n"
     ]
    },
    {
     "data": {
      "text/html": [
       "<div>\n",
       "<style scoped>\n",
       "    .dataframe tbody tr th:only-of-type {\n",
       "        vertical-align: middle;\n",
       "    }\n",
       "\n",
       "    .dataframe tbody tr th {\n",
       "        vertical-align: top;\n",
       "    }\n",
       "\n",
       "    .dataframe thead th {\n",
       "        text-align: right;\n",
       "    }\n",
       "</style>\n",
       "<table border=\"1\" class=\"dataframe\">\n",
       "  <thead>\n",
       "    <tr style=\"text-align: right;\">\n",
       "      <th></th>\n",
       "      <th>Volume</th>\n",
       "      <th>MaxStress</th>\n",
       "      <th>x1</th>\n",
       "      <th>x2</th>\n",
       "      <th>y</th>\n",
       "      <th>g1</th>\n",
       "      <th>Feasible</th>\n",
       "    </tr>\n",
       "  </thead>\n",
       "  <tbody>\n",
       "    <tr>\n",
       "      <th>0</th>\n",
       "      <td>0.021916</td>\n",
       "      <td>18377.203009</td>\n",
       "      <td>0.002354</td>\n",
       "      <td>0.004815</td>\n",
       "      <td>2.115106</td>\n",
       "      <td>-81622.796991</td>\n",
       "      <td>1</td>\n",
       "    </tr>\n",
       "    <tr>\n",
       "      <th>1</th>\n",
       "      <td>0.031101</td>\n",
       "      <td>12991.022813</td>\n",
       "      <td>0.003331</td>\n",
       "      <td>0.006803</td>\n",
       "      <td>2.129376</td>\n",
       "      <td>-87008.977187</td>\n",
       "      <td>1</td>\n",
       "    </tr>\n",
       "    <tr>\n",
       "      <th>2</th>\n",
       "      <td>0.008704</td>\n",
       "      <td>46119.773223</td>\n",
       "      <td>0.000961</td>\n",
       "      <td>0.001948</td>\n",
       "      <td>2.022885</td>\n",
       "      <td>-53880.226777</td>\n",
       "      <td>1</td>\n",
       "    </tr>\n",
       "    <tr>\n",
       "      <th>3</th>\n",
       "      <td>0.038300</td>\n",
       "      <td>10514.420370</td>\n",
       "      <td>0.004061</td>\n",
       "      <td>0.008395</td>\n",
       "      <td>2.145074</td>\n",
       "      <td>-89485.579630</td>\n",
       "      <td>1</td>\n",
       "    </tr>\n",
       "    <tr>\n",
       "      <th>4</th>\n",
       "      <td>0.037292</td>\n",
       "      <td>10759.938300</td>\n",
       "      <td>0.004219</td>\n",
       "      <td>0.008331</td>\n",
       "      <td>1.977927</td>\n",
       "      <td>-89240.061700</td>\n",
       "      <td>1</td>\n",
       "    </tr>\n",
       "  </tbody>\n",
       "</table>\n",
       "</div>"
      ],
      "text/plain": [
       "     Volume     MaxStress        x1        x2         y            g1  \\\n",
       "0  0.021916  18377.203009  0.002354  0.004815  2.115106 -81622.796991   \n",
       "1  0.031101  12991.022813  0.003331  0.006803  2.129376 -87008.977187   \n",
       "2  0.008704  46119.773223  0.000961  0.001948  2.022885 -53880.226777   \n",
       "3  0.038300  10514.420370  0.004061  0.008395  2.145074 -89485.579630   \n",
       "4  0.037292  10759.938300  0.004219  0.008331  1.977927 -89240.061700   \n",
       "\n",
       "   Feasible  \n",
       "0         1  \n",
       "1         1  \n",
       "2         1  \n",
       "3         1  \n",
       "4         1  "
      ]
     },
     "execution_count": 4,
     "metadata": {},
     "output_type": "execute_result"
    }
   ],
   "source": [
    "from desdeo_tools.utilities import non_dominated\n",
    "\n",
    "non_dom_inds = non_dominated(df_all[[\"Volume\", \"MaxStress\"]].values)\n",
    "df_nondom = df_all[non_dom_inds].copy()\n",
    "print(df_nondom.shape[0])\n",
    "df_nondom.head()"
   ]
  },
  {
   "cell_type": "code",
   "execution_count": 5,
   "id": "62535fef-e9d2-45b9-928c-12fdb78cfa6a",
   "metadata": {
    "tags": []
   },
   "outputs": [
    {
     "data": {
      "image/png": "[encoded data removed]",
      "text/plain": [
       "<Figure size 640x480 with 1 Axes>"
      ]
     },
     "metadata": {},
     "output_type": "display_data"
    }
   ],
   "source": [
    "df_nondom.plot(kind=\"scatter\", x=\"Volume\", y=\"MaxStress\")\n",
    "plt.show()"
   ]
  },
  {
   "cell_type": "code",
   "execution_count": 6,
   "id": "a9c51e3f-fb4e-423c-80a2-150b3f972b79",
   "metadata": {
    "tags": []
   },
   "outputs": [
    {
     "name": "stdout",
     "output_type": "stream",
     "text": [
      "Sum of masks 521, sum of data 521\n"
     ]
    }
   ],
   "source": [
    "class_1_mask = df_nondom[\"MaxStress\"] > 0.1e6\n",
    "class_2_mask = np.logical_and(df_nondom[\"Volume\"] < 0.022, df_nondom[\"MaxStress\"] < 0.1e6)\n",
    "class_3_mask = np.logical_and(df_nondom[\"Volume\"] > 0.022, df_nondom[\"MaxStress\"] < 0.1e6)\n",
    "\n",
    "print(f\"Sum of masks {class_1_mask.sum() + class_2_mask.sum() + class_3_mask.sum()}, sum of data {df_nondom.shape[0]}\")"
   ]
  },
  {
   "cell_type": "code",
   "execution_count": 7,
   "id": "58d9e3e3-fdba-4b19-8de8-5065e4fc96d2",
   "metadata": {
    "tags": []
   },
   "outputs": [
    {
     "data": {
      "text/html": [
       "<div>\n",
       "<style scoped>\n",
       "    .dataframe tbody tr th:only-of-type {\n",
       "        vertical-align: middle;\n",
       "    }\n",
       "\n",
       "    .dataframe tbody tr th {\n",
       "        vertical-align: top;\n",
       "    }\n",
       "\n",
       "    .dataframe thead th {\n",
       "        text-align: right;\n",
       "    }\n",
       "</style>\n",
       "<table border=\"1\" class=\"dataframe\">\n",
       "  <thead>\n",
       "    <tr style=\"text-align: right;\">\n",
       "      <th></th>\n",
       "      <th>Volume</th>\n",
       "      <th>MaxStress</th>\n",
       "      <th>x1</th>\n",
       "      <th>x2</th>\n",
       "      <th>y</th>\n",
       "      <th>g1</th>\n",
       "      <th>Feasible</th>\n",
       "      <th>class</th>\n",
       "    </tr>\n",
       "  </thead>\n",
       "  <tbody>\n",
       "    <tr>\n",
       "      <th>0</th>\n",
       "      <td>0.021916</td>\n",
       "      <td>18377.203009</td>\n",
       "      <td>0.002354</td>\n",
       "      <td>0.004815</td>\n",
       "      <td>2.115106</td>\n",
       "      <td>-81622.796991</td>\n",
       "      <td>1</td>\n",
       "      <td>2.0</td>\n",
       "    </tr>\n",
       "    <tr>\n",
       "      <th>1</th>\n",
       "      <td>0.031101</td>\n",
       "      <td>12991.022813</td>\n",
       "      <td>0.003331</td>\n",
       "      <td>0.006803</td>\n",
       "      <td>2.129376</td>\n",
       "      <td>-87008.977187</td>\n",
       "      <td>1</td>\n",
       "      <td>3.0</td>\n",
       "    </tr>\n",
       "    <tr>\n",
       "      <th>2</th>\n",
       "      <td>0.008704</td>\n",
       "      <td>46119.773223</td>\n",
       "      <td>0.000961</td>\n",
       "      <td>0.001948</td>\n",
       "      <td>2.022885</td>\n",
       "      <td>-53880.226777</td>\n",
       "      <td>1</td>\n",
       "      <td>2.0</td>\n",
       "    </tr>\n",
       "    <tr>\n",
       "      <th>3</th>\n",
       "      <td>0.038300</td>\n",
       "      <td>10514.420370</td>\n",
       "      <td>0.004061</td>\n",
       "      <td>0.008395</td>\n",
       "      <td>2.145074</td>\n",
       "      <td>-89485.579630</td>\n",
       "      <td>1</td>\n",
       "      <td>3.0</td>\n",
       "    </tr>\n",
       "    <tr>\n",
       "      <th>4</th>\n",
       "      <td>0.037292</td>\n",
       "      <td>10759.938300</td>\n",
       "      <td>0.004219</td>\n",
       "      <td>0.008331</td>\n",
       "      <td>1.977927</td>\n",
       "      <td>-89240.061700</td>\n",
       "      <td>1</td>\n",
       "      <td>3.0</td>\n",
       "    </tr>\n",
       "  </tbody>\n",
       "</table>\n",
       "</div>"
      ],
      "text/plain": [
       "     Volume     MaxStress        x1        x2         y            g1  \\\n",
       "0  0.021916  18377.203009  0.002354  0.004815  2.115106 -81622.796991   \n",
       "1  0.031101  12991.022813  0.003331  0.006803  2.129376 -87008.977187   \n",
       "2  0.008704  46119.773223  0.000961  0.001948  2.022885 -53880.226777   \n",
       "3  0.038300  10514.420370  0.004061  0.008395  2.145074 -89485.579630   \n",
       "4  0.037292  10759.938300  0.004219  0.008331  1.977927 -89240.061700   \n",
       "\n",
       "   Feasible  class  \n",
       "0         1    2.0  \n",
       "1         1    3.0  \n",
       "2         1    2.0  \n",
       "3         1    3.0  \n",
       "4         1    3.0  "
      ]
     },
     "execution_count": 7,
     "metadata": {},
     "output_type": "execute_result"
    }
   ],
   "source": [
    "df_nondom.loc[class_1_mask, \"class\"] = 1\n",
    "df_nondom.loc[class_2_mask, \"class\"] = 2\n",
    "df_nondom.loc[class_3_mask, \"class\"] = 3\n",
    "\n",
    "df_nondom.head()"
   ]
  },
  {
   "cell_type": "code",
   "execution_count": 8,
   "id": "cea60bd1-00e4-491d-b2d2-a7d8140e9e1c",
   "metadata": {
    "tags": []
   },
   "outputs": [
    {
     "data": {
      "image/png": "[encoded data removed]",
      "text/plain": [
       "<Figure size 640x480 with 1 Axes>"
      ]
     },
     "metadata": {},
     "output_type": "display_data"
    }
   ],
   "source": [
    "sc = plt.scatter(x=df_nondom[\"Volume\"], y=df_nondom[\"MaxStress\"], c=df_nondom[\"class\"])\n",
    "\n",
    "plt.xlabel(\"Volume\")\n",
    "plt.ylabel(\"MaxStress\")\n",
    "\n",
    "legend = plt.legend(*sc.legend_elements(), title=\"Class\")\n",
    "plt.gca().add_artist(legend)\n",
    "\n",
    "plt.show()"
   ]
  },
  {
   "cell_type": "code",
   "execution_count": 28,
   "id": "15835ed9-5826-48a3-99e6-784021dbac0e",
   "metadata": {
    "tags": []
   },
   "outputs": [
    {
     "name": "stdout",
     "output_type": "stream",
     "text": [
      "         x1        x2         y\n",
      "0  0.002354  0.004815  2.115106\n",
      "1  0.003331  0.006803  2.129376\n",
      "2  0.000961  0.001948  2.022885\n",
      "3  0.004061  0.008395  2.145074\n",
      "4  0.004219  0.008331  1.977927\n",
      "   class\n",
      "0    2.0\n",
      "1    3.0\n",
      "2    2.0\n",
      "3    3.0\n",
      "4    3.0\n"
     ]
    }
   ],
   "source": [
    "xs = df_nondom[[\"x1\", \"x2\", \"y\"]].copy().reset_index(drop=True)  # keep indices ordinal\n",
    "ys = df_nondom[[\"class\"]].copy().reset_index(drop=True)\n",
    "\n",
    "print(xs.head())\n",
    "print(ys.head())"
   ]
  },
  {
   "cell_type": "code",
   "execution_count": 39,
   "id": "949960c2-9ac8-41f0-9392-79a032695778",
   "metadata": {
    "tags": []
   },
   "outputs": [
    {
     "name": "stderr",
     "output_type": "stream",
     "text": [
      "/home/kilo/.cache/pypoetry/virtualenvs/xaimoo-experiments-ipJbcfLC-py3.8/lib/python3.8/site-packages/sklearn/preprocessing/_encoders.py:828: FutureWarning: `sparse` was renamed to `sparse_output` in version 1.2 and will be removed in 1.4. `sparse_output` is ignored unless you leave `sparse` to its default value.\n",
      "  warnings.warn(\n"
     ]
    },
    {
     "data": {
      "text/html": [
       "<style>#sk-container-id-3 {color: black;background-color: white;}#sk-container-id-3 pre{padding: 0;}#sk-container-id-3 div.sk-toggleable {background-color: white;}#sk-container-id-3 label.sk-toggleable__label {cursor: pointer;display: block;width: 100%;margin-bottom: 0;padding: 0.3em;box-sizing: border-box;text-align: center;}#sk-container-id-3 label.sk-toggleable__label-arrow:before {content: \"▸\";float: left;margin-right: 0.25em;color: #696969;}#sk-container-id-3 label.sk-toggleable__label-arrow:hover:before {color: black;}#sk-container-id-3 div.sk-estimator:hover label.sk-toggleable__label-arrow:before {color: black;}#sk-container-id-3 div.sk-toggleable__content {max-height: 0;max-width: 0;overflow: hidden;text-align: left;background-color: #f0f8ff;}#sk-container-id-3 div.sk-toggleable__content pre {margin: 0.2em;color: black;border-radius: 0.25em;background-color: #f0f8ff;}#sk-container-id-3 input.sk-toggleable__control:checked~div.sk-toggleable__content {max-height: 200px;max-width: 100%;overflow: auto;}#sk-container-id-3 input.sk-toggleable__control:checked~label.sk-toggleable__label-arrow:before {content: \"▾\";}#sk-container-id-3 div.sk-estimator input.sk-toggleable__control:checked~label.sk-toggleable__label {background-color: #d4ebff;}#sk-container-id-3 div.sk-label input.sk-toggleable__control:checked~label.sk-toggleable__label {background-color: #d4ebff;}#sk-container-id-3 input.sk-hidden--visually {border: 0;clip: rect(1px 1px 1px 1px);clip: rect(1px, 1px, 1px, 1px);height: 1px;margin: -1px;overflow: hidden;padding: 0;position: absolute;width: 1px;}#sk-container-id-3 div.sk-estimator {font-family: monospace;background-color: #f0f8ff;border: 1px dotted black;border-radius: 0.25em;box-sizing: border-box;margin-bottom: 0.5em;}#sk-container-id-3 div.sk-estimator:hover {background-color: #d4ebff;}#sk-container-id-3 div.sk-parallel-item::after {content: \"\";width: 100%;border-bottom: 1px solid gray;flex-grow: 1;}#sk-container-id-3 div.sk-label:hover label.sk-toggleable__label {background-color: #d4ebff;}#sk-container-id-3 div.sk-serial::before {content: \"\";position: absolute;border-left: 1px solid gray;box-sizing: border-box;top: 0;bottom: 0;left: 50%;z-index: 0;}#sk-container-id-3 div.sk-serial {display: flex;flex-direction: column;align-items: center;background-color: white;padding-right: 0.2em;padding-left: 0.2em;position: relative;}#sk-container-id-3 div.sk-item {position: relative;z-index: 1;}#sk-container-id-3 div.sk-parallel {display: flex;align-items: stretch;justify-content: center;background-color: white;position: relative;}#sk-container-id-3 div.sk-item::before, #sk-container-id-3 div.sk-parallel-item::before {content: \"\";position: absolute;border-left: 1px solid gray;box-sizing: border-box;top: 0;bottom: 0;left: 50%;z-index: -1;}#sk-container-id-3 div.sk-parallel-item {display: flex;flex-direction: column;z-index: 1;position: relative;background-color: white;}#sk-container-id-3 div.sk-parallel-item:first-child::after {align-self: flex-end;width: 50%;}#sk-container-id-3 div.sk-parallel-item:last-child::after {align-self: flex-start;width: 50%;}#sk-container-id-3 div.sk-parallel-item:only-child::after {width: 0;}#sk-container-id-3 div.sk-dashed-wrapped {border: 1px dashed gray;margin: 0 0.4em 0.5em 0.4em;box-sizing: border-box;padding-bottom: 0.4em;background-color: white;}#sk-container-id-3 div.sk-label label {font-family: monospace;font-weight: bold;display: inline-block;line-height: 1.2em;}#sk-container-id-3 div.sk-label-container {text-align: center;}#sk-container-id-3 div.sk-container {/* jupyter's `normalize.less` sets `[hidden] { display: none; }` but bootstrap.min.css set `[hidden] { display: none !important; }` so we also need the `!important` here to be able to override the default hidden behavior on the sphinx rendered scikit-learn.org. See: https://github.com/scikit-learn/scikit-learn/issues/21755 */display: inline-block !important;position: relative;}#sk-container-id-3 div.sk-text-repr-fallback {display: none;}</style><div id=\"sk-container-id-3\" class=\"sk-top-container\"><div class=\"sk-text-repr-fallback\"><pre>&lt;?xml version=&quot;1.0&quot; ?&gt;\r\n",
       "&lt;GreedyTree&gt;\r\n",
       "\t&lt;X_1 feature=&quot;0.0048628605629977&quot; flag=&quot;l&quot; p=&quot;0.541&quot;&gt;\r\n",
       "\t\t&lt;X_1 feature=&quot;0.000977253036603&quot; flag=&quot;l&quot; p=&quot;0.064&quot;&gt;1.0&lt;/X_1&gt;\r\n",
       "\t\t&lt;X_1 feature=&quot;0.000977253036603&quot; flag=&quot;r&quot; p=&quot;0.936&quot;&gt;\r\n",
       "\t\t\t&lt;X_1 feature=&quot;0.0048340558059785&quot; flag=&quot;l&quot; p=&quot;0.981&quot;&gt;2.0&lt;/X_1&gt;\r\n",
       "\t\t\t&lt;X_1 feature=&quot;0.0048340558059785&quot; flag=&quot;r&quot; p=&quot;0.019&quot;&gt;\r\n",
       "\t\t\t\t&lt;X_1 feature=&quot;0.0048349068740235&quot; flag=&quot;l&quot; p=&quot;0.4&quot;&gt;3.0&lt;/X_1&gt;\r\n",
       "\t\t\t\t&lt;X_1 feature=&quot;0.0048349068740235&quot; flag=&quot;r&quot; p=&quot;0.6&quot;&gt;2.0&lt;/X_1&gt;\r\n",
       "\t\t\t&lt;/X_1&gt;\r\n",
       "\t\t&lt;/X_1&gt;\r\n",
       "\t&lt;/X_1&gt;\r\n",
       "\t&lt;X_1 feature=&quot;0.0048628605629977&quot; flag=&quot;r&quot; p=&quot;0.459&quot;&gt;3.0&lt;/X_1&gt;\r\n",
       "&lt;/GreedyTree&gt;\r\n",
       "</pre><b>In a Jupyter environment, please rerun this cell to show the HTML representation or trust the notebook. <br />On GitHub, the HTML representation is unable to render, please try loading this page with nbviewer.org.</b></div><div class=\"sk-container\" hidden><div class=\"sk-item\"><div class=\"sk-estimator sk-toggleable\"><input class=\"sk-toggleable__control sk-hidden--visually\" id=\"sk-estimator-id-3\" type=\"checkbox\" checked><label for=\"sk-estimator-id-3\" class=\"sk-toggleable__label sk-toggleable__label-arrow\">C45TreeClassifier</label><div class=\"sk-toggleable__content\"><pre>&lt;?xml version=&quot;1.0&quot; ?&gt;\r\n",
       "&lt;GreedyTree&gt;\r\n",
       "\t&lt;X_1 feature=&quot;0.0048628605629977&quot; flag=&quot;l&quot; p=&quot;0.541&quot;&gt;\r\n",
       "\t\t&lt;X_1 feature=&quot;0.000977253036603&quot; flag=&quot;l&quot; p=&quot;0.064&quot;&gt;1.0&lt;/X_1&gt;\r\n",
       "\t\t&lt;X_1 feature=&quot;0.000977253036603&quot; flag=&quot;r&quot; p=&quot;0.936&quot;&gt;\r\n",
       "\t\t\t&lt;X_1 feature=&quot;0.0048340558059785&quot; flag=&quot;l&quot; p=&quot;0.981&quot;&gt;2.0&lt;/X_1&gt;\r\n",
       "\t\t\t&lt;X_1 feature=&quot;0.0048340558059785&quot; flag=&quot;r&quot; p=&quot;0.019&quot;&gt;\r\n",
       "\t\t\t\t&lt;X_1 feature=&quot;0.0048349068740235&quot; flag=&quot;l&quot; p=&quot;0.4&quot;&gt;3.0&lt;/X_1&gt;\r\n",
       "\t\t\t\t&lt;X_1 feature=&quot;0.0048349068740235&quot; flag=&quot;r&quot; p=&quot;0.6&quot;&gt;2.0&lt;/X_1&gt;\r\n",
       "\t\t\t&lt;/X_1&gt;\r\n",
       "\t\t&lt;/X_1&gt;\r\n",
       "\t&lt;/X_1&gt;\r\n",
       "\t&lt;X_1 feature=&quot;0.0048628605629977&quot; flag=&quot;r&quot; p=&quot;0.459&quot;&gt;3.0&lt;/X_1&gt;\r\n",
       "&lt;/GreedyTree&gt;\r\n",
       "</pre></div></div></div></div></div>"
      ],
      "text/plain": [
       "C45TreeClassifier()"
      ]
     },
     "execution_count": 39,
     "metadata": {},
     "output_type": "execute_result"
    }
   ],
   "source": [
    "from imodels import C45TreeClassifier as Classifier\n",
    "from imodels.discretization import ExtraBasicDiscretizer as Discretizer\n",
    "\n",
    "discretizer = Discretizer([\"x1\", \"x2\", \"y\"])\n",
    "discretizer.fit(xs)\n",
    "xs_discrete = discretizer.transform(xs)\n",
    "\n",
    "classifier = Classifier()\n",
    "classifier.fit(xs, ys.values.ravel())\n",
    "classifier"
   ]
  },
  {
   "cell_type": "code",
   "execution_count": null,
   "id": "1cdbe0fe-7793-432a-ba0a-2b6ed8583e7e",
   "metadata": {},
   "outputs": [],
   "source": []
  }
 ],
 "metadata": {
  "kernelspec": {
   "display_name": "xaimoo",
   "language": "python",
   "name": "xaimoo"
  },
  "language_info": {
   "codemirror_mode": {
    "name": "ipython",
    "version": 3
   },
   "file_extension": ".py",
   "mimetype": "text/x-python",
   "name": "python",
   "nbconvert_exporter": "python",
   "pygments_lexer": "ipython3",
   "version": "3.8.12"
  }
 },
 "nbformat": 4,
 "nbformat_minor": 5
}
